{
 "cells": [
  {
   "cell_type": "code",
   "execution_count": 1,
   "id": "f518b238",
   "metadata": {},
   "outputs": [],
   "source": [
    "%load_ext autoreload\n",
    "%autoreload 2\n",
    "\n",
    "import numpy as np\n",
    "import matplotlib.pyplot as plt\n",
    "plt.rcParams['figure.figsize'] = [9, 6]\n",
    "\n",
    "data_path = \"../../../data/\"\n",
    "derrom_path = \"../../\"\n",
    "\n",
    "import sys\n",
    "\n",
    "# sys.path.append(derrom_path)\n",
    "sys.path.insert(0,derrom_path)\n",
    "\n",
    "import derrom\n"
   ]
  },
  {
   "cell_type": "code",
   "execution_count": 2,
   "id": "543f214f",
   "metadata": {},
   "outputs": [
    {
     "name": "stdout",
     "output_type": "stream",
     "text": [
      "100 loaded with n_kmax = 200\n"
     ]
    }
   ],
   "source": [
    "trajectories = derrom.utils.load_trajectories(filename=data_path + 'trajectories_n_kmax=200.npz')\n",
    "\n",
    "trajectories = trajectories[::10]\n",
    "\n",
    "n_trajectories = len(trajectories)\n",
    "n_kmax = trajectories[0].shape[1]\n",
    "\n",
    "print(n_trajectories, 'loaded with n_kmax =', n_kmax)"
   ]
  },
  {
   "cell_type": "code",
   "execution_count": 3,
   "id": "95d12b36",
   "metadata": {},
   "outputs": [],
   "source": [
    "rdim = 20\n",
    "\n",
    "dim_reducer = derrom.dim_reducers.SVD()\n",
    "# dim_reducer = derrom.dim_reducers.FFT(sorted=True)\n",
    "# dim_reducer = derrom.dim_reducers.Hermite(sample_max = 1.856, sorted=True, optimize=True, orthogonalize=True, train_rdim=rdim)\n",
    "\n",
    "model = derrom.utils.reducer_helper_class(dim_reducer)\n",
    "model.fit(trajectories)\n",
    "\n",
    "# print(dim_reducer.sample_max)\n",
    "\n",
    "# print(model.get_error(trajectories[9], rdim=rdim, norm='rms'))"
   ]
  },
  {
   "cell_type": "code",
   "execution_count": 4,
   "id": "cbfe6109",
   "metadata": {},
   "outputs": [
    {
     "name": "stdout",
     "output_type": "stream",
     "text": [
      "rms error:  0.0009668017954528861+-0.0008178586680528447\n",
      "max error:  0.026518223591377437+-0.03145254782264028\n"
     ]
    }
   ],
   "source": [
    "rdim = 20\n",
    "\n",
    "dim_reducer = derrom.dim_reducers.SVD()\n",
    "# dim_reducer = derrom.dim_reducers.FFT(sorted=True)\n",
    "# dim_reducer = derrom.dim_reducers.Hermite(sample_max = 1.856, sorted=True, optimize=True, orthogonalize=True, train_rdim=rdim)\n",
    "\n",
    "model = derrom.utils.reducer_helper_class(dim_reducer, rdim=rdim)\n",
    "\n",
    "train_kwargs = {'rdim':rdim}\n",
    "\n",
    "scores = derrom.utils.get_KFold_CV_scores(model, trajectories, folds=10, seed=817, norms=['rms','max'], train_kwargs=train_kwargs)\n",
    "\n",
    "print('rms error: ', str(np.mean(scores[0])) + '+-' + str(np.std(scores[0])) )\n",
    "print('max error: ', str(np.mean(scores[1])) + '+-' + str(np.std(scores[1])) )\n"
   ]
  },
  {
   "cell_type": "code",
   "execution_count": 5,
   "id": "f7ddcf5e",
   "metadata": {},
   "outputs": [
    {
     "data": {
      "image/png": "[encoded data removed]",
      "text/plain": [
       "<Figure size 432x288 with 1 Axes>"
      ]
     },
     "metadata": {
      "needs_background": "light"
     },
     "output_type": "display_data"
    },
    {
     "data": {
      "image/png": "[encoded data removed]",
      "text/plain": [
       "<Figure size 432x288 with 1 Axes>"
      ]
     },
     "metadata": {
      "needs_background": "light"
     },
     "output_type": "display_data"
    }
   ],
   "source": [
    "plt.hist(scores[0],bins=n_trajectories//10)\n",
    "plt.show()\n",
    "\n",
    "plt.hist(scores[1],bins=n_trajectories//10)\n",
    "plt.show()"
   ]
  }
 ],
 "metadata": {
  "kernelspec": {
   "display_name": "Python 3 (ipykernel)",
   "language": "python",
   "name": "python3"
  },
  "language_info": {
   "codemirror_mode": {
    "name": "ipython",
    "version": 3
   },
   "file_extension": ".py",
   "mimetype": "text/x-python",
   "name": "python",
   "nbconvert_exporter": "python",
   "pygments_lexer": "ipython3",
   "version": "3.9.18"
  }
 },
 "nbformat": 4,
 "nbformat_minor": 5
}
