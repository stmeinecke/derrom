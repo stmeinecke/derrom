{
 "cells": [
  {
   "cell_type": "markdown",
   "id": "bc512214",
   "metadata": {},
   "source": [
    "### Model optimization for the PHELPH paper\n",
    "\n",
    "grid search to dertermine the optimal regularization and reduced dimension\n",
    "\n",
    "results are saved as mopt.npz files"
   ]
  },
  {
   "cell_type": "code",
   "execution_count": 1,
   "id": "3f6e78ff",
   "metadata": {},
   "outputs": [],
   "source": [
    "%load_ext autoreload\n",
    "%autoreload 2\n",
    "\n",
    "import numpy as np\n",
    "import matplotlib.pyplot as plt\n",
    "plt.rcParams['figure.figsize'] = [9, 6]\n",
    "import time\n",
    "\n",
    "\n",
    "data_path = \"../../../data_PHELPH/\"\n",
    "derrom_path = \"../../\"\n",
    "\n",
    "import sys\n",
    "\n",
    "# sys.path.append(derrom_path)\n",
    "sys.path.insert(0,derrom_path)\n",
    "\n",
    "import derrom\n",
    "from derrom.utils import ivp_integrator\n",
    "import PHELPH"
   ]
  },
  {
   "cell_type": "code",
   "execution_count": 2,
   "id": "a6d18d5a",
   "metadata": {},
   "outputs": [],
   "source": [
    "kmax = 2.5\n",
    "n_kmax = 100\n",
    "\n",
    "tmax = 10000\n",
    "n_tmax = 1001\n",
    "dt = tmax/(n_tmax-1)\n",
    "t_vec = np.linspace(0,tmax,n_tmax)\n",
    "\n",
    "system = PHELPH.PHELPH(kmax=kmax, n_kmax=n_kmax)\n",
    "\n",
    "v = 'v2'\n",
    "system.g_photon = 0.04\n",
    "system.tau_photon = 200\n",
    "system.E_photon = 0.035\n",
    "system.linewidth = 0.01\n",
    "\n",
    "system.setup_laser()"
   ]
  },
  {
   "cell_type": "code",
   "execution_count": 42,
   "id": "1346d389",
   "metadata": {},
   "outputs": [
    {
     "name": "stdout",
     "output_type": "stream",
     "text": [
      "100 loaded with n_kmax = 100\n"
     ]
    }
   ],
   "source": [
    "I_trajectories = derrom.utils.load_trajectories(filename=data_path + 'PHELPH_I_kmax2.5_nkmax_100_n1000_'+v+'.npz')\n",
    "el_trajectories = derrom.utils.load_trajectories(filename=data_path + 'PHELPH_el_kmax2.5_nkmax_100_n1000_'+v+'.npz')\n",
    "el_scattering = derrom.utils.load_trajectories(filename=data_path + 'PHELPH_el_scat_kmax2.5_nkmax_100_n1000_'+v+'.npz')\n",
    "\n",
    "n_sample = 100\n",
    "\n",
    "# I_trajectories = I_trajectories[::n_sample]\n",
    "# el_trajectories = el_trajectories[::n_sample]\n",
    "# el_scattering = el_scattering[::n_sample]\n",
    "\n",
    "I_trajectories = I_trajectories[:n_sample]\n",
    "el_trajectories = el_trajectories[:n_sample]\n",
    "el_scattering = el_scattering[:n_sample]\n",
    "\n",
    "n_trajectories = len(el_trajectories)\n",
    "n_kmax = el_trajectories[0].shape[1]\n",
    "\n",
    "trajectories = [ np.concatenate([el_trajectories[k],I_trajectories[k].reshape(-1,1)], axis=1) for k in range(n_trajectories) ]\n",
    "\n",
    "print(n_trajectories, 'loaded with n_kmax =', n_kmax)\n",
    "\n",
    "mean_I_max = np.mean([I.max() for I in I_trajectories])\n",
    "mean_I_max_pos = np.mean([np.argmax(I)*dt for I in I_trajectories])\n",
    "median_I_max = np.median([I.max() for I in I_trajectories])\n",
    "median_I_max_pos = np.median([np.argmax(I)*dt for I in I_trajectories])"
   ]
  },
  {
   "cell_type": "code",
   "execution_count": 43,
   "id": "5a51e174",
   "metadata": {},
   "outputs": [
    {
     "name": "stdout",
     "output_type": "stream",
     "text": [
      "computing scores for rdim=2, alpha_exp=0\n",
      "computing scores for rdim=2, alpha_exp=1\n"
     ]
    },
    {
     "name": "stderr",
     "output_type": "stream",
     "text": [
      "/tmp/ipykernel_3596781/3929108424.py:28: RuntimeWarning: overflow encountered in multiply\n",
      "  df += -system.g_photon * I * system.lineshape_vec * (2.*el_state - 1.0)\n",
      "/tmp/ipykernel_3596781/3929108424.py:31: RuntimeWarning: overflow encountered in double_scalars\n",
      "  dI = -I/system.tau_photon + I * np.sum(system.I_gain_helper_vec * (2.*el_state - 1.0))\n",
      "../derrom/derrom/utils.py:503: RuntimeWarning: overflow encountered in multiply\n",
      "  vecs = np.stack( [hist[(hist_ind - n*j_out + hist_length)%hist_length] for n in range(self.model.DE_l-1,0,-1)]+[(state+dt*f1).flatten()] )\n",
      "../derrom/derrom/dim_reducers.py:77: RuntimeWarning: invalid value encountered in matmul\n",
      "  return data_matrix @ self.U[:,:rdim] #project the data matrix onto the first rdim left singular vectors. The reduced data matrix then carries rdim coefficients in its rows\n",
      "/usr/lib/python3/dist-packages/numpy/core/fromnumeric.py:87: RuntimeWarning: invalid value encountered in reduce\n",
      "  return ufunc.reduce(obj, axis, dtype, out, **passkwargs)\n"
     ]
    },
    {
     "name": "stdout",
     "output_type": "stream",
     "text": [
      "computing scores for rdim=2, alpha_exp=2\n",
      "computing scores for rdim=2, alpha_exp=3\n",
      "computing scores for rdim=4, alpha_exp=0\n",
      "computing scores for rdim=4, alpha_exp=1\n",
      "computing scores for rdim=4, alpha_exp=2\n",
      "computing scores for rdim=4, alpha_exp=3\n",
      "computing scores for rdim=6, alpha_exp=0\n",
      "computing scores for rdim=6, alpha_exp=1\n",
      "computing scores for rdim=6, alpha_exp=2\n",
      "computing scores for rdim=6, alpha_exp=3\n",
      "computing scores for rdim=8, alpha_exp=0\n",
      "computing scores for rdim=8, alpha_exp=1\n",
      "computing scores for rdim=8, alpha_exp=2\n",
      "computing scores for rdim=8, alpha_exp=3\n",
      "computing scores for rdim=10, alpha_exp=0\n",
      "computing scores for rdim=10, alpha_exp=1\n",
      "computing scores for rdim=10, alpha_exp=2\n",
      "computing scores for rdim=10, alpha_exp=3\n",
      "computation time: 1669.469484090805\n"
     ]
    }
   ],
   "source": [
    "results_list = []\n",
    "\n",
    "t_start = time.time()\n",
    "\n",
    "for rdim in [2,4,6,8,10]:\n",
    "    for alpha_exp in [0,1,2,3]:\n",
    "        \n",
    "        print('computing scores for rdim='+str(rdim)+', alpha_exp='+str(alpha_exp))\n",
    "\n",
    "        dim_reducer = derrom.dim_reducers.SVD()\n",
    "\n",
    "        scaler = derrom.scalers.standardize_scaler(1.0)\n",
    "        transformer = derrom.transformers.ELM_features(ELM_nodes=1000)\n",
    "        optimizer = derrom.optimizers.ridge(alpha=10.**alpha_exp)\n",
    "\n",
    "        el_scat_model = derrom.estimator(rdim=rdim, DE_l=2, intercept=True, full_hist=False,\n",
    "                            optimizer=optimizer,\n",
    "                            scaler=scaler,\n",
    "                            dim_reducer=dim_reducer,\n",
    "                            NL_transformer=transformer)\n",
    "\n",
    "        def derivs(y):   \n",
    "            el_hist = y[:,:-1]\n",
    "            el_state = y[-1,:-1]\n",
    "            I = y[-1,-1]\n",
    "\n",
    "            df = el_scat_model.predict(el_hist)\n",
    "            df += -system.g_photon * I * system.lineshape_vec * (2.*el_state - 1.0)\n",
    "\n",
    "\n",
    "            dI = -I/system.tau_photon + I * np.sum(system.I_gain_helper_vec * (2.*el_state - 1.0))\n",
    "            dI += 1e-9\n",
    "\n",
    "            return np.concatenate((df[0],[dI]))\n",
    "\n",
    "        integrator = derrom.utils.PHELPH_ivp_integrator(el_scat_model, derivs, dt=5.0, dt_out=10., method='Heun')\n",
    "\n",
    "        scores = derrom.utils.get_KFold_CV_scores(integrator, trajectories, el_scattering, folds=10, seed=817,\n",
    "                                                  norms=['rms','I_max','I_max_pos','I_max_rel','I_max_pos_rel'],\n",
    "                                                  train_kwargs={})\n",
    "\n",
    "        results = np.array([[np.mean(np.abs(scrs)) for scrs in scores],[np.std(np.abs(scrs)) for scrs in scores]]).T\n",
    "        \n",
    "        I_max_err_median = np.median(np.abs(scores[1]))\n",
    "        I_max_err_90th = np.percentile(np.abs(scores[1]), 90)\n",
    "        tmp = np.reshape(np.array([I_max_err_median,I_max_err_90th]),(1,2)) \n",
    "        results = np.concatenate((results,tmp),axis=0)\n",
    "        \n",
    "        I_max_pos_err_median = np.median(np.abs(scores[2]))\n",
    "        I_max_pos_err_90th = np.percentile(np.abs(scores[2]), 90)\n",
    "        tmp = np.reshape(np.array([I_max_pos_err_median,I_max_pos_err_90th]),(1,2))\n",
    "        results = np.concatenate((results,tmp),axis=0)\n",
    "        \n",
    "        results_list.append(results)\n",
    "        \n",
    "        \n",
    "t_end = time.time()\n",
    "print(\"computation time:\", t_end - t_start)"
   ]
  },
  {
   "cell_type": "code",
   "execution_count": 44,
   "id": "a7465972",
   "metadata": {},
   "outputs": [
    {
     "name": "stdout",
     "output_type": "stream",
     "text": [
      "(20, 7, 2)\n",
      "(5, 4, 7, 2)\n"
     ]
    }
   ],
   "source": [
    "results_array = np.asarray(results_list)\n",
    "print(results_array.shape)\n",
    "results_array = results_array.reshape((5,4,7,2))\n",
    "print(results_array.shape)"
   ]
  },
  {
   "cell_type": "code",
   "execution_count": 37,
   "id": "fcaaee05",
   "metadata": {},
   "outputs": [],
   "source": [
    "# np.save(data_path+'mopt_n10', results_array)"
   ]
  },
  {
   "cell_type": "code",
   "execution_count": 55,
   "id": "1ae44ae3",
   "metadata": {
    "scrolled": false
   },
   "outputs": [
    {
     "name": "stdout",
     "output_type": "stream",
     "text": [
      "(5, 3, 7, 2)\n"
     ]
    }
   ],
   "source": [
    "results_array = np.load(data_path+'mopt_n50.npy')\n",
    "print(results_array.shape)"
   ]
  },
  {
   "cell_type": "code",
   "execution_count": 45,
   "id": "33f2611f",
   "metadata": {},
   "outputs": [],
   "source": [
    "el_rms_err = results_array[:,:,0,0] + results_array[:,:,0,1]\n",
    "I_max_err = results_array[:,:,1,0] + results_array[:,:,1,1]\n",
    "I_max_pos_err = results_array[:,:,2,0] + results_array[:,:,2,1]\n",
    "I_max_rel_err = results_array[:,:,3,0] + results_array[:,:,3,1]\n",
    "I_max_pos_rel_err = results_array[:,:,4,0] + results_array[:,:,4,1]\n",
    "I_max_err_90th = results_array[:,:,5,1]\n",
    "I_max_pos_err_90th = results_array[:,:,6,1]"
   ]
  },
  {
   "cell_type": "code",
   "execution_count": 46,
   "id": "902a815c",
   "metadata": {},
   "outputs": [],
   "source": [
    "I_max_err /= mean_I_max\n",
    "I_max_pos_err /= mean_I_max_pos\n",
    "I_max_err_90th /= median_I_max\n",
    "I_max_pos_err_90th /= median_I_max_pos"
   ]
  },
  {
   "cell_type": "code",
   "execution_count": 51,
   "id": "00c8cff3",
   "metadata": {},
   "outputs": [
    {
     "name": "stdout",
     "output_type": "stream",
     "text": [
      "minimum: 0.024256395336746103\n",
      "argmin: 11\n"
     ]
    },
    {
     "data": {
      "image/png": "[encoded data removed]",
      "text/plain": [
       "<Figure size 432x288 with 2 Axes>"
      ]
     },
     "metadata": {
      "needs_background": "light"
     },
     "output_type": "display_data"
    },
    {
     "name": "stdout",
     "output_type": "stream",
     "text": [
      "minimum: 0.06888937779971868\n",
      "argmin: 18\n"
     ]
    },
    {
     "data": {
      "image/png": "[encoded data removed]",
      "text/plain": [
       "<Figure size 432x288 with 2 Axes>"
      ]
     },
     "metadata": {
      "needs_background": "light"
     },
     "output_type": "display_data"
    },
    {
     "name": "stdout",
     "output_type": "stream",
     "text": [
      "minimum: 0.07511444117534671\n",
      "argmin: 4\n"
     ]
    },
    {
     "data": {
      "image/png": "[encoded data removed]",
      "text/plain": [
       "<Figure size 432x288 with 2 Axes>"
      ]
     },
     "metadata": {
      "needs_background": "light"
     },
     "output_type": "display_data"
    },
    {
     "name": "stdout",
     "output_type": "stream",
     "text": [
      "minimum: 0.07218766184907231\n",
      "argmin: 8\n"
     ]
    },
    {
     "data": {
      "image/png": "[encoded data removed]",
      "text/plain": [
       "<Figure size 432x288 with 2 Axes>"
      ]
     },
     "metadata": {
      "needs_background": "light"
     },
     "output_type": "display_data"
    },
    {
     "name": "stdout",
     "output_type": "stream",
     "text": [
      "minimum: 0.04522613065326633\n",
      "argmin: 13\n"
     ]
    },
    {
     "data": {
      "image/png": "[encoded data removed]",
      "text/plain": [
       "<Figure size 432x288 with 2 Axes>"
      ]
     },
     "metadata": {
      "needs_background": "light"
     },
     "output_type": "display_data"
    }
   ],
   "source": [
    "lims = [-0.5,3.5,1,11]\n",
    "\n",
    "print('minimum:', np.nanmin(el_rms_err))\n",
    "print('argmin:', np.nanargmin(el_rms_err))\n",
    "plt.imshow(el_rms_err, origin='lower', aspect='auto', interpolation='none', extent=lims)\n",
    "plt.colorbar()\n",
    "plt.ylabel('rdim')\n",
    "plt.xlabel('regularization')\n",
    "plt.title('electron rms error')\n",
    "\n",
    "plt.show()\n",
    "\n",
    "\n",
    "print('minimum:', np.nanmin(I_max_err))\n",
    "print('argmin:', np.nanargmin(I_max_err))\n",
    "plt.imshow(I_max_err, origin='lower', aspect='auto', interpolation='none', extent=lims)\n",
    "plt.colorbar()\n",
    "plt.ylabel('rdim')\n",
    "plt.xlabel('regularization')\n",
    "plt.title('I max error')\n",
    "\n",
    "plt.show()\n",
    "\n",
    "\n",
    "print('minimum:', np.nanmin(I_max_pos_err))\n",
    "print('argmin:', np.nanargmin(I_max_pos_err))\n",
    "plt.imshow(I_max_pos_err, origin='lower', aspect='auto', interpolation='none', extent=lims)\n",
    "plt.colorbar()\n",
    "plt.ylabel('rdim')\n",
    "plt.xlabel('regularization')\n",
    "plt.title('I max pos error')\n",
    "\n",
    "plt.show()\n",
    "\n",
    "\n",
    "\n",
    "print('minimum:', np.nanmin(I_max_err_90th))\n",
    "print('argmin:', np.nanargmin(I_max_err_90th))\n",
    "plt.imshow(I_max_err_90th, origin='lower', aspect='auto', interpolation='none', extent=lims)\n",
    "plt.colorbar()\n",
    "plt.ylabel('rdim')\n",
    "plt.xlabel('regularization')\n",
    "plt.title('I max error 90th percentile')\n",
    "\n",
    "plt.show()\n",
    "\n",
    "\n",
    "print('minimum:', np.nanmin(I_max_pos_err_90th))\n",
    "print('argmin:', np.nanargmin(I_max_pos_err_90th))\n",
    "plt.imshow(I_max_pos_err_90th, origin='lower', aspect='auto', interpolation='none', extent=lims)\n",
    "plt.colorbar()\n",
    "plt.ylabel('rdim')\n",
    "plt.xlabel('regularization')\n",
    "plt.title('I max pos error 90th percentile')\n",
    "\n",
    "plt.show()\n",
    "\n"
   ]
  },
  {
   "cell_type": "code",
   "execution_count": 49,
   "id": "aab2486b",
   "metadata": {},
   "outputs": [
    {
     "name": "stdout",
     "output_type": "stream",
     "text": [
      "minimum: 0.00024151915708832075\n",
      "argmin: 5\n"
     ]
    },
    {
     "data": {
      "image/png": "[encoded data removed]",
      "text/plain": [
       "<Figure size 432x288 with 2 Axes>"
      ]
     },
     "metadata": {
      "needs_background": "light"
     },
     "output_type": "display_data"
    },
    {
     "name": "stdout",
     "output_type": "stream",
     "text": [
      "minimum: 0.006691813888393194\n",
      "argmin: 4\n"
     ]
    },
    {
     "data": {
      "image/png": "[encoded data removed]",
      "text/plain": [
       "<Figure size 432x288 with 2 Axes>"
      ]
     },
     "metadata": {
      "needs_background": "light"
     },
     "output_type": "display_data"
    },
    {
     "name": "stdout",
     "output_type": "stream",
     "text": [
      "minimum: 0.164202688171312\n",
      "argmin: 4\n"
     ]
    },
    {
     "data": {
      "image/png": "[encoded data removed]",
      "text/plain": [
       "<Figure size 432x288 with 2 Axes>"
      ]
     },
     "metadata": {
      "needs_background": "light"
     },
     "output_type": "display_data"
    },
    {
     "name": "stdout",
     "output_type": "stream",
     "text": [
      "minimum: 0.13887090302249594\n",
      "argmin: 18\n"
     ]
    },
    {
     "data": {
      "image/png": "[encoded data removed]",
      "text/plain": [
       "<Figure size 432x288 with 2 Axes>"
      ]
     },
     "metadata": {
      "needs_background": "light"
     },
     "output_type": "display_data"
    }
   ],
   "source": [
    "score = np.multiply(np.multiply(el_rms_err,I_max_err),I_max_pos_err)\n",
    "print('minimum:', np.nanmin(score))\n",
    "print('argmin:', np.nanargmin(score))\n",
    "\n",
    "plt.imshow(score, origin='lower', aspect='auto', interpolation='none', extent=lims, vmax=0.01)\n",
    "plt.colorbar()\n",
    "plt.ylabel('rdim')\n",
    "plt.xlabel('regularization')\n",
    "plt.title('combined score')\n",
    "\n",
    "plt.show()\n",
    "\n",
    "\n",
    "score = np.multiply(I_max_err,I_max_pos_err)\n",
    "print('minimum:', np.nanmin(score))\n",
    "print('argmin:', np.nanargmin(score))\n",
    "\n",
    "plt.imshow(score, origin='lower', aspect='auto', interpolation='none', extent=lims, vmax=0.2)\n",
    "plt.colorbar()\n",
    "plt.ylabel('rdim')\n",
    "plt.xlabel('regularization')\n",
    "plt.title('pulse score')\n",
    "\n",
    "plt.show()\n",
    "\n",
    "\n",
    "\n",
    "score = I_max_err + I_max_pos_err\n",
    "print('minimum:', np.nanmin(score))\n",
    "print('argmin:', np.nanargmin(score))\n",
    "\n",
    "plt.imshow(score, origin='lower', aspect='auto', interpolation='none', extent=lims, vmax=0.5)\n",
    "plt.colorbar()\n",
    "plt.ylabel('rdim')\n",
    "plt.xlabel('regularization')\n",
    "plt.title('pulse sum score')\n",
    "\n",
    "plt.show()\n",
    "\n",
    "\n",
    "score = I_max_err_90th + I_max_pos_err_90th\n",
    "print('minimum:', np.nanmin(score))\n",
    "print('argmin:', np.nanargmin(score))\n",
    "\n",
    "plt.imshow(score, origin='lower', aspect='auto', interpolation='none', extent=lims, vmax=0.5)\n",
    "plt.colorbar()\n",
    "plt.ylabel('rdim')\n",
    "plt.xlabel('regularization')\n",
    "plt.title('90th percentile pulse sum score')\n",
    "\n",
    "plt.show()"
   ]
  },
  {
   "cell_type": "code",
   "execution_count": 24,
   "id": "53356f34",
   "metadata": {},
   "outputs": [
    {
     "name": "stdout",
     "output_type": "stream",
     "text": [
      "electron rms error:  0.020950385974180166 +- 0.018282592662311293\n",
      "I_max error:  0.04805955404512333 +- 0.04847890715608336\n",
      "I_max_pos error:  74.2 +- 162.37105653410026\n",
      "relative I_max error:  0.07917647398259031 +- 0.1505081546802293\n",
      "relative I_max_pos error:  0.03282585517091199 +- 0.05186033900839992\n",
      "median I_max error:  0.03767903367334251\n",
      "90th percentile I_max error:  0.112562734931212\n",
      "median I_max_pos error:  30.0  normalized:  0.015384615384615385\n",
      "90th percentile I_max_pos error:  119.00000000000013  normalized:  0.06102564102564109\n"
     ]
    }
   ],
   "source": [
    "results = results_list[13]\n",
    "\n",
    "print('electron rms error: ', str(results[0,0]) + ' +- ' + str(results[0,1]) )\n",
    "print('I_max error: ', str(results[1,0]/mean_I_max) + ' +- ' + str(results[1,1]/mean_I_max) )\n",
    "print('I_max_pos error: ', str(results[2,0]) + ' +- ' + str(results[2,1]) )\n",
    "print('relative I_max error: ', str(results[3,0]) + ' +- ' + str(results[3,1]) )\n",
    "print('relative I_max_pos error: ', str(results[4,0]) + ' +- ' + str(results[4,1]) )\n",
    "print('median I_max error: ', str(results[5,0]/median_I_max))\n",
    "print('90th percentile I_max error: ',str(results[5,1]/median_I_max) )\n",
    "print('median I_max_pos error: ', str(results[6,0]), ' normalized: ', str(results[6,0]/median_I_max_pos) )\n",
    "print('90th percentile I_max_pos error: ', str(results[6,1]), ' normalized: ', str(results[6,1]/median_I_max_pos)  )"
   ]
  },
  {
   "cell_type": "markdown",
   "id": "61439a9b",
   "metadata": {},
   "source": [
    "## Optimial configurations:\n",
    "\n",
    "\n",
    "#### n = 100:\n",
    "computation time: 1669s\n",
    "meanstd pulse sum score: alpha_exp = 2, rdim = 4, 0.16420\\\n",
    "90th percentile pulse sum score: alpha_exp = 2, rdim = 10, 0.13887\n",
    "\n",
    "#### n = 50: \n",
    "computation time: 760s\\\n",
    "meanstd pulse sum score: alpha_exp = 1, rdim = 8, 0.2121645\\\n",
    "90th percentile pulse sum score: alpha_exp = 1, rdim = 8, 0.17358\n",
    "\n",
    "#### n = 20:\n",
    "computation time: 306s\\\n",
    "meanstd pulse sum score: alpha_exp = 2, rdim = 4, 0.1806\\\n",
    "90th percentile pulse sum score: alpha_exp = 2, rdim = 4, 0.25143\n",
    "\n",
    "#### n = 10:\n",
    "computation time: 158s\\\n",
    "meanstd pulse sum score: alpha_exp = 2, rdim = 4, 0.272561\\\n",
    "90th percentile pulse sum score: alpha_exp = 0, rdim = 4, 0.303524"
   ]
  }
 ],
 "metadata": {
  "kernelspec": {
   "display_name": "Python 3 (ipykernel)",
   "language": "python",
   "name": "python3"
  },
  "language_info": {
   "codemirror_mode": {
    "name": "ipython",
    "version": 3
   },
   "file_extension": ".py",
   "mimetype": "text/x-python",
   "name": "python",
   "nbconvert_exporter": "python",
   "pygments_lexer": "ipython3",
   "version": "3.9.18"
  }
 },
 "nbformat": 4,
 "nbformat_minor": 5
}
