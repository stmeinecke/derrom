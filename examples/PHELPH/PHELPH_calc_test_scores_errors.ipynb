{
 "cells": [
  {
   "cell_type": "markdown",
   "id": "d4505484",
   "metadata": {},
   "source": [
    "### Calc scores end errors of the test trajectories\n",
    "\n",
    "to be used for the histograms"
   ]
  },
  {
   "cell_type": "code",
   "execution_count": 1,
   "id": "a19b9a9e",
   "metadata": {},
   "outputs": [],
   "source": [
    "%load_ext autoreload\n",
    "%autoreload 2\n",
    "\n",
    "import numpy as np\n",
    "import matplotlib.pyplot as plt\n",
    "plt.rcParams['figure.figsize'] = [9, 6]\n",
    "import time\n",
    "\n",
    "data_path = \"../../../data_PHELPH/\"\n",
    "derrom_path = \"../../\"\n",
    "\n",
    "import sys\n",
    "\n",
    "# sys.path.append(derrom_path)\n",
    "sys.path.insert(0,derrom_path)\n",
    "\n",
    "import derrom\n",
    "from derrom.utils import ivp_integrator\n",
    "import PHELPH"
   ]
  },
  {
   "cell_type": "code",
   "execution_count": 2,
   "id": "58cfd82a",
   "metadata": {},
   "outputs": [],
   "source": [
    "kmax = 2.5\n",
    "n_kmax = 100\n",
    "\n",
    "tmax = 10000\n",
    "n_tmax = 1001\n",
    "dt = tmax/(n_tmax-1)\n",
    "t_vec = np.linspace(0,tmax,n_tmax)\n",
    "\n",
    "system = PHELPH.PHELPH(kmax=kmax, n_kmax=n_kmax)\n",
    "\n",
    "v = 'v2'\n",
    "system.g_photon = 0.04\n",
    "system.tau_photon = 200\n",
    "system.E_photon = 0.035\n",
    "system.linewidth = 0.01\n",
    "\n",
    "system.setup_laser()"
   ]
  },
  {
   "cell_type": "code",
   "execution_count": 3,
   "id": "8b52f6f7",
   "metadata": {},
   "outputs": [
    {
     "name": "stdout",
     "output_type": "stream",
     "text": [
      "1000 loaded with n_kmax = 100\n",
      "number of training trajectories:  50\n",
      "number of test trajectories:  950\n"
     ]
    }
   ],
   "source": [
    "I_trajectories = derrom.utils.load_trajectories(filename=data_path + 'PHELPH_I_kmax2.5_nkmax_100_n1000_'+v+'.npz')\n",
    "el_trajectories = derrom.utils.load_trajectories(filename=data_path + 'PHELPH_el_kmax2.5_nkmax_100_n1000_'+v+'.npz')\n",
    "el_scattering = derrom.utils.load_trajectories(filename=data_path + 'PHELPH_el_scat_kmax2.5_nkmax_100_n1000_'+v+'.npz')\n",
    "\n",
    "n_trajectories = len(el_trajectories)\n",
    "n_kmax = el_trajectories[0].shape[1]\n",
    "print(n_trajectories, 'loaded with n_kmax =', n_kmax)\n",
    "\n",
    "trajectories = [ np.concatenate([el_trajectories[k],I_trajectories[k].reshape(-1,1)], axis=1) for k in range(n_trajectories) ]\n",
    "\n",
    "# n_sample = 100\n",
    "# I_trajectories = I_trajectories[::n_sample]\n",
    "# el_trajectories = el_trajectories[::n_sample]\n",
    "# el_scattering = el_scattering[::n_sample]\n",
    "\n",
    "n_sample = 50\n",
    "n_start = 0\n",
    "\n",
    "train_I_trajectories = I_trajectories[n_start:n_start+n_sample]\n",
    "train_el_trajectories = el_trajectories[n_start:n_start+n_sample]\n",
    "train_el_scattering = el_scattering[n_start:n_start+n_sample]\n",
    "train_trajectories = trajectories[n_start:n_start+n_sample]\n",
    "print('number of training trajectories: ', len(train_trajectories))\n",
    "\n",
    "test_start = n_sample\n",
    "test_I_trajectories = I_trajectories[test_start:]\n",
    "test_el_trajectories = el_trajectories[test_start:]\n",
    "test_el_scattering = el_scattering[test_start:]\n",
    "test_trajectories = trajectories[test_start:]\n",
    "print('number of test trajectories: ', len(test_trajectories))\n",
    "\n",
    "median_test_I_max = np.median([I.max() for I in test_I_trajectories])\n",
    "median_test_I_max_pos = np.median([np.argmax(I)*dt for I in test_I_trajectories])\n"
   ]
  },
  {
   "cell_type": "code",
   "execution_count": 4,
   "id": "529bc5c3",
   "metadata": {},
   "outputs": [],
   "source": [
    "el_scat_model = derrom.estimator(rdim=8, DE_l=2, intercept=True, full_hist=False,\n",
    "                    optimizer=derrom.optimizers.ridge(alpha=10.**1),\n",
    "                    scaler=derrom.scalers.standardize_scaler(1.0),\n",
    "                    dim_reducer=derrom.dim_reducers.SVD(),\n",
    "                    NL_transformer=derrom.transformers.ELM_features(ELM_nodes=1000))\n",
    "\n",
    "def derivs(y):   \n",
    "    el_hist = y[:,:-1]\n",
    "    el_state = y[-1,:-1]\n",
    "    I = y[-1,-1]\n",
    "\n",
    "    df = el_scat_model.predict(el_hist)\n",
    "    df += -system.g_photon * I * system.lineshape_vec * (2.*el_state - 1.0)\n",
    "\n",
    "\n",
    "    dI = -I/system.tau_photon + I * np.sum(system.I_gain_helper_vec * (2.*el_state - 1.0))\n",
    "    dI += 1e-9\n",
    "\n",
    "    return np.concatenate((df[0],[dI]))\n",
    "\n",
    "integrator = derrom.utils.PHELPH_ivp_integrator(el_scat_model, derivs, dt=5.0, dt_out=10., method='Heun')"
   ]
  },
  {
   "cell_type": "markdown",
   "id": "4573ed53",
   "metadata": {},
   "source": [
    "### Parameters:\n",
    "determined from model optimization notebook\n",
    "\n",
    "n100: rdim=10, a=2\\\n",
    "n50: rdim=8, a=1\\\n",
    "n20: rdim=4, a=2\\\n",
    "n10: rdim=4, a=0"
   ]
  },
  {
   "cell_type": "code",
   "execution_count": 5,
   "id": "377277d0",
   "metadata": {},
   "outputs": [],
   "source": [
    "el_scat_model.fit(train_el_trajectories, train_el_scattering)"
   ]
  },
  {
   "cell_type": "code",
   "execution_count": 6,
   "id": "2de313d8",
   "metadata": {},
   "outputs": [
    {
     "name": "stdout",
     "output_type": "stream",
     "text": [
      "full_hist:  True\n",
      "intercept:  True\n",
      "standardize:  True\n",
      "rdim:  8\n",
      "DE_l:  2\n",
      "weights shape:  (1017, 100)\n"
     ]
    }
   ],
   "source": [
    "el_scat_model.print_status()"
   ]
  },
  {
   "cell_type": "code",
   "execution_count": 7,
   "id": "8da8d685",
   "metadata": {},
   "outputs": [
    {
     "name": "stdout",
     "output_type": "stream",
     "text": [
      "el rms error: 0.005959221702662937\n",
      "I_max error: -3.572510533480372e-06\n",
      "I_max_pos error: 10.0\n"
     ]
    },
    {
     "data": {
      "image/png": "[encoded data removed]",
      "text/plain": [
       "<Figure size 648x432 with 1 Axes>"
      ]
     },
     "metadata": {
      "needs_background": "light"
     },
     "output_type": "display_data"
    }
   ],
   "source": [
    "ind = -1\n",
    "\n",
    "test_el_trajectory = test_el_trajectories[ind]\n",
    "test_I_trajectory = test_I_trajectories[ind]\n",
    "test_trajectory = test_trajectories[ind]\n",
    "\n",
    "inits = test_trajectory[:1]\n",
    "\n",
    "pred = integrator.integrate(test_trajectory,test_trajectory.shape[0])\n",
    "\n",
    "print('el rms error:', integrator.get_error(test_trajectory,pred, norm='rms'))\n",
    "print('I_max error:', integrator.get_error(test_trajectory,pred, norm='I_max'))\n",
    "print('I_max_pos error:', integrator.get_error(test_trajectory,pred, norm='I_max_pos'))\n",
    "\n",
    "plt.plot(t_vec,pred[:,-1],label='ML pred')\n",
    "plt.plot(t_vec,test_I_trajectory,label='truth')\n",
    "plt.legend()\n",
    "plt.show()"
   ]
  },
  {
   "cell_type": "code",
   "execution_count": 12,
   "id": "d5098557",
   "metadata": {},
   "outputs": [
    {
     "name": "stdout",
     "output_type": "stream",
     "text": [
      "computation time: 643.599198102951\n"
     ]
    }
   ],
   "source": [
    "I_max_errs = []\n",
    "I_max_pos_errs = []\n",
    "el_rms_errs = []\n",
    "\n",
    "t_start = time.time()\n",
    "\n",
    "for test in test_trajectories:\n",
    "    pred = integrator.integrate(test, test.shape[0])\n",
    "    I_max_errs.append(integrator.get_error(test,pred, norm='I_max'))\n",
    "    I_max_pos_errs.append(integrator.get_error(test,pred, norm='I_max_pos'))\n",
    "    el_rms_errs.append(integrator.get_error(test,pred, norm='rms'))\n",
    "    \n",
    "t_end = time.time()\n",
    "print(\"computation time:\", t_end - t_start)"
   ]
  },
  {
   "cell_type": "code",
   "execution_count": 13,
   "id": "c7189e51",
   "metadata": {},
   "outputs": [
    {
     "name": "stdout",
     "output_type": "stream",
     "text": [
      "(3, 950)\n"
     ]
    }
   ],
   "source": [
    "I_max_scores = np.abs(I_max_errs)/median_test_I_max\n",
    "I_max_pos_scores = np.abs(I_max_pos_errs)/median_test_I_max_pos\n",
    "\n",
    "scores = np.stack([I_max_scores, I_max_pos_scores, el_rms_errs],axis=0)\n",
    "errs = np.stack([I_max_errs, I_max_pos_errs, el_rms_errs],axis=0)\n",
    "print(scores.shape)"
   ]
  },
  {
   "cell_type": "code",
   "execution_count": 14,
   "id": "de459db2",
   "metadata": {},
   "outputs": [],
   "source": [
    "# np.savetxt(data_path+'PHELPH_test_scores_n50', scores)\n",
    "# np.savetxt(data_path+'PHELPH_test_errs_n50', errs)"
   ]
  },
  {
   "cell_type": "code",
   "execution_count": 15,
   "id": "29adf1c5",
   "metadata": {
    "scrolled": true
   },
   "outputs": [
    {
     "name": "stdout",
     "output_type": "stream",
     "text": [
      "0.12337098830330029\n",
      "0.046632124352331605\n",
      "0.1700031126556319\n"
     ]
    },
    {
     "data": {
      "image/png": "[encoded data removed]",
      "text/plain": [
       "<Figure size 648x432 with 1 Axes>"
      ]
     },
     "metadata": {
      "needs_background": "light"
     },
     "output_type": "display_data"
    },
    {
     "data": {
      "image/png": "[encoded data removed]",
      "text/plain": [
       "<Figure size 648x432 with 1 Axes>"
      ]
     },
     "metadata": {
      "needs_background": "light"
     },
     "output_type": "display_data"
    }
   ],
   "source": [
    "I_max_scores_90ths = np.percentile(I_max_scores, 90)\n",
    "I_max_pos_scores_90ths = np.percentile(I_max_pos_scores, 90)\n",
    "\n",
    "print(I_max_scores_90ths)\n",
    "print(I_max_pos_scores_90ths)\n",
    "print(I_max_scores_90ths + I_max_pos_scores_90ths)\n",
    "\n",
    "plt.hist(I_max_scores, bins = 20)\n",
    "plt.show()\n",
    "\n",
    "plt.hist(I_max_pos_scores, bins=20)\n",
    "plt.show()"
   ]
  },
  {
   "cell_type": "code",
   "execution_count": null,
   "id": "aa4563d3",
   "metadata": {},
   "outputs": [],
   "source": []
  }
 ],
 "metadata": {
  "kernelspec": {
   "display_name": "Python 3 (ipykernel)",
   "language": "python",
   "name": "python3"
  },
  "language_info": {
   "codemirror_mode": {
    "name": "ipython",
    "version": 3
   },
   "file_extension": ".py",
   "mimetype": "text/x-python",
   "name": "python",
   "nbconvert_exporter": "python",
   "pygments_lexer": "ipython3",
   "version": "3.9.18"
  }
 },
 "nbformat": 4,
 "nbformat_minor": 5
}
