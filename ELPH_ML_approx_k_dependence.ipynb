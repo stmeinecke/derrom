{
 "cells": [
  {
   "cell_type": "code",
   "execution_count": 2,
   "id": "f518b238",
   "metadata": {},
   "outputs": [
    {
     "name": "stdout",
     "output_type": "stream",
     "text": [
      "The autoreload extension is already loaded. To reload it, use:\n",
      "  %reload_ext autoreload\n"
     ]
    }
   ],
   "source": [
    "%load_ext autoreload\n",
    "%autoreload 2\n",
    "\n",
    "import numpy as np\n",
    "import matplotlib.pyplot as plt\n",
    "plt.rcParams['figure.figsize'] = [9, 6]\n",
    "\n",
    "import sys\n",
    "\n",
    "sys.path.append(\"incl/\")\n",
    "\n",
    "import ELPH_utils\n",
    "import codimar\n",
    "\n",
    "from RedDimApprox import RedDimApprox"
   ]
  },
  {
   "cell_type": "code",
   "execution_count": 3,
   "id": "543f214f",
   "metadata": {},
   "outputs": [
    {
     "name": "stdout",
     "output_type": "stream",
     "text": [
      "1000 loaded with n_kmax = 80\n"
     ]
    }
   ],
   "source": [
    "runs = ELPH_utils.load_runs(filename='/home/agluedge/Preprints/ELPH/runs/runs_n_kmax=80.npz')\n",
    "\n",
    "# runs = runs[:100:1]\n",
    "# for k in range(len(runs)):\n",
    "#     runs[k] = runs[k][:,::2]\n",
    "\n",
    "n_runs = len(runs)\n",
    "n_kmax = runs[0].shape[0]\n",
    "\n",
    "print(n_runs, 'loaded with n_kmax =', n_kmax)"
   ]
  },
  {
   "cell_type": "code",
   "execution_count": 8,
   "id": "95d12b36",
   "metadata": {},
   "outputs": [
    {
     "name": "stdout",
     "output_type": "stream",
     "text": [
      "0.00038442929012784014\n"
     ]
    }
   ],
   "source": [
    "dim_reducer = codimar.dim_compressor.SVD()\n",
    "# dim_reducer = codimar.dim_compressor.FFT(sorted=True)\n",
    "# dim_reducer = codimar.dim_compressor.Hermite(sample_max = 1.856, sorted=True, optimize=True, orthogonalize=False, train_rdim=20)\n",
    "\n",
    "model = RedDimApprox(runs, dim_reducer)\n",
    "model.train()\n",
    "# print(dim_reducer.sample_max)\n",
    "\n",
    "print(model.get_error(runs[9], rdim=20, norm='std'))"
   ]
  },
  {
   "cell_type": "code",
   "execution_count": 14,
   "id": "cbfe6109",
   "metadata": {},
   "outputs": [
    {
     "name": "stdout",
     "output_type": "stream",
     "text": [
      "std error:  0.004943199493290012+-0.0034486950208930793\n",
      "max error:  0.10565892356228863+-0.10562436500204257\n"
     ]
    }
   ],
   "source": [
    "dim_reducer = codimar.dim_compressor.SVD()\n",
    "# dim_reducer = codimar.dim_compressor.FFT(sorted=True)\n",
    "# dim_reducer = codimar.dim_compressor.Hermite(sample_max = 1.856, sorted=True, optimize=True, orthogonalize=True, train_rdim=40)\n",
    "\n",
    "model = RedDimApprox(dim_reducer=dim_reducer)\n",
    "\n",
    "train_kwargs = {'rdim':10}\n",
    "\n",
    "scores = ELPH_utils.get_KFold_CV_scores(model, runs, folds=10, seed=817, norms=['std','max'], train_kwargs=train_kwargs)\n",
    "\n",
    "print('std error: ', str(np.mean(scores[0])) + '+-' + str(np.std(scores[0])) )\n",
    "print('max error: ', str(np.mean(scores[1])) + '+-' + str(np.std(scores[1])) )\n"
   ]
  },
  {
   "cell_type": "code",
   "execution_count": null,
   "id": "b87559e1",
   "metadata": {
    "scrolled": false
   },
   "outputs": [
    {
     "name": "stdout",
     "output_type": "stream",
     "text": [
      "1000 loaded with n_kmax = 50\n",
      "min rdim: 16 mean + std 0.009812019001237928\n",
      "1000 loaded with n_kmax = 60\n",
      "min rdim: 17 mean + std 0.009123606011162733\n",
      "1000 loaded with n_kmax = 70\n",
      "min rdim: 18 mean + std 0.008523513458801715\n",
      "1000 loaded with n_kmax = 80\n"
     ]
    }
   ],
   "source": [
    "norm = 'std'\n",
    "threshold = 0.01\n",
    "\n",
    "# n_kmax_ar = [220,230]\n",
    "n_kmax_ar = [10,20,30,40]\n",
    "# n_kmax_ar = np.arange(10,235,10)\n",
    "n_kmax_ar = np.arange(50,255,10)\n",
    "\n",
    "rdim_buffer = 5\n",
    "previous_min_rdim = 1 + rdim_buffer\n",
    "min_rdim_ar = []\n",
    "\n",
    "for k, n_kmax in enumerate(n_kmax_ar):\n",
    "    runs = ELPH_utils.load_runs(filename='/home/agluedge/Preprints/ELPH/runs/runs_n_kmax='+str(n_kmax)+'.npz')\n",
    "    n_runs = len(runs)\n",
    "    assert n_kmax == runs[0].shape[0]\n",
    "    \n",
    "    print(n_runs, 'loaded with n_kmax =', n_kmax)\n",
    "    \n",
    "    for rdim in range(previous_min_rdim-rdim_buffer,n_kmax+1):\n",
    "        \n",
    "        try:\n",
    "#             dim_reducer = codimar.dim_compressor.SVD()\n",
    "#             dim_reducer = codimar.dim_compressor.FFT(sorted=True)\n",
    "            dim_reducer = codimar.dim_compressor.Hermite(sorted=True, optimize=True, orthogonalize=True, train_rdim=rdim)\n",
    "\n",
    "            model = RedDimApprox(dim_reducer=dim_reducer)\n",
    "\n",
    "            train_kwargs = {'rdim':rdim}\n",
    "\n",
    "            scores = ELPH_utils.get_KFold_CV_scores(model, runs, folds=10, seed=817, norms=[norm], train_kwargs=train_kwargs)\n",
    "            \n",
    "            mean = np.mean(scores[0])\n",
    "            std = np.std(scores[0])\n",
    "\n",
    "            score = mean+std\n",
    "\n",
    "            if score < threshold:\n",
    "                previous_min_rdim = rdim\n",
    "                min_rdim_ar.append(rdim)\n",
    "                print('min rdim:', rdim, 'mean + std', score)\n",
    "                break\n",
    "        except:\n",
    "            score = 10.0\n",
    "            \n",
    "    if score > threshold:        \n",
    "        min_rdim_ar.append(rdim)\n",
    "        print('max rdim reached:', rdim, 'mean score', score)\n",
    "    "
   ]
  },
  {
   "cell_type": "code",
   "execution_count": 10,
   "id": "06f7231c",
   "metadata": {},
   "outputs": [
    {
     "name": "stdout",
     "output_type": "stream",
     "text": [
      "(21, 2)\n",
      "[[ 50  50]\n",
      " [ 60  56]\n",
      " [ 70  61]\n",
      " [ 80  65]\n",
      " [ 90  72]\n",
      " [100  79]\n",
      " [110  86]\n",
      " [120  94]\n",
      " [130 100]\n",
      " [140 108]\n",
      " [150 115]\n",
      " [160 123]\n",
      " [170 128]\n",
      " [180 137]\n",
      " [190 147]\n",
      " [200 157]\n",
      " [210 164]\n",
      " [220 171]\n",
      " [230 178]\n",
      " [240 186]\n",
      " [250 194]]\n"
     ]
    },
    {
     "data": {
      "image/png": "[encoded data removed]",
      "text/plain": [
       "<Figure size 648x432 with 1 Axes>"
      ]
     },
     "metadata": {
      "needs_background": "light"
     },
     "output_type": "display_data"
    },
    {
     "data": {
      "image/png": "[encoded data removed]",
      "text/plain": [
       "<Figure size 648x432 with 1 Axes>"
      ]
     },
     "metadata": {
      "needs_background": "light"
     },
     "output_type": "display_data"
    }
   ],
   "source": [
    "n_kmax_ar = np.asarray(n_kmax_ar)\n",
    "min_rdim_ar = np.asarray(min_rdim_ar)\n",
    "\n",
    "data = np.stack((n_kmax_ar[:min_rdim_ar.size],min_rdim_ar),axis=1)\n",
    "\n",
    "# prev_data = np.loadtxt('/home/agluedge/Preprints/ELPH/figs/red_dim_apprx/hermite_max')\n",
    "# data = np.concatenate((prev_data,data),axis=0)\n",
    "\n",
    "\n",
    "print(data.shape)\n",
    "print(data)\n",
    "\n",
    "# np.savetxt('/home/agluedge/Preprints/ELPH/figs/red_dim_apprx/FFT_std_2', data)\n",
    "\n",
    "\n",
    "\n",
    "plt.grid()\n",
    "plt.plot(data[:,0],data[:,1], '--', marker='o')\n",
    "plt.xlabel('n_kmax')\n",
    "plt.ylabel('min rdim')\n",
    "plt.show()\n",
    "\n",
    "\n",
    "plt.grid()\n",
    "plt.plot(data[:,0],data[:,1]/data[:,0], '--', marker='o')\n",
    "plt.xlabel('n_kmax')\n",
    "plt.ylabel('min rdim/n_kmax')\n",
    "plt.show()"
   ]
  }
 ],
 "metadata": {
  "kernelspec": {
   "display_name": "Python 3 (ipykernel)",
   "language": "python",
   "name": "python3"
  },
  "language_info": {
   "codemirror_mode": {
    "name": "ipython",
    "version": 3
   },
   "file_extension": ".py",
   "mimetype": "text/x-python",
   "name": "python",
   "nbconvert_exporter": "python",
   "pygments_lexer": "ipython3",
   "version": "3.9.2"
  }
 },
 "nbformat": 4,
 "nbformat_minor": 5
}
