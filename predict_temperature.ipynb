{
 "cells": [
  {
   "cell_type": "code",
   "execution_count": 1,
   "id": "96d2b306",
   "metadata": {},
   "outputs": [],
   "source": [
    "%load_ext autoreload\n",
    "%autoreload 2\n",
    "\n",
    "import numpy as np\n",
    "import matplotlib.pyplot as plt\n",
    "plt.rcParams['figure.figsize'] = [9, 6]\n",
    "\n",
    "# %matplotlib notebook\n",
    "\n",
    "import sys\n",
    "sys.path.append(\"incl/\")\n",
    "\n",
    "import derrom"
   ]
  },
  {
   "cell_type": "code",
   "execution_count": 2,
   "id": "62192ead",
   "metadata": {},
   "outputs": [
    {
     "name": "stdout",
     "output_type": "stream",
     "text": [
      "29 loaded with n_kmax = 200\n"
     ]
    }
   ],
   "source": [
    "trajectories = derrom.utils.load_trajectories(filename='../trajectories_n_kmax=200.npz')\n",
    "\n",
    "trajectories = trajectories[:29:1]\n",
    "\n",
    "n_trajectories = len(trajectories)\n",
    "n_kmax = trajectories[0].shape[1]\n",
    "\n",
    "print(n_trajectories, 'loaded with n_kmax =', n_kmax)"
   ]
  },
  {
   "cell_type": "code",
   "execution_count": 3,
   "id": "67a14556",
   "metadata": {},
   "outputs": [
    {
     "ename": "NameError",
     "evalue": "name 'ELPH_dyn' is not defined",
     "output_type": "error",
     "traceback": [
      "\u001b[0;31m---------------------------------------------------------------------------\u001b[0m",
      "\u001b[0;31mNameError\u001b[0m                                 Traceback (most recent call last)",
      "Input \u001b[0;32mIn [3]\u001b[0m, in \u001b[0;36m<cell line: 1>\u001b[0;34m()\u001b[0m\n\u001b[0;32m----> 1\u001b[0m system \u001b[38;5;241m=\u001b[39m \u001b[43mELPH_dyn\u001b[49m\u001b[38;5;241m.\u001b[39mELPH(kmax\u001b[38;5;241m=\u001b[39m\u001b[38;5;241m2.0\u001b[39m,n_kmax\u001b[38;5;241m=\u001b[39mn_kmax)\n\u001b[1;32m      4\u001b[0m \u001b[38;5;28;01mimport\u001b[39;00m \u001b[38;5;21;01mfermi_fit\u001b[39;00m\n\u001b[1;32m      6\u001b[0m dk \u001b[38;5;241m=\u001b[39m \u001b[38;5;241m2.\u001b[39m\u001b[38;5;241m/\u001b[39mn_kmax\n",
      "\u001b[0;31mNameError\u001b[0m: name 'ELPH_dyn' is not defined"
     ]
    }
   ],
   "source": [
    "system = ELPH_dyn.ELPH(kmax=2.0,n_kmax=n_kmax)\n",
    "\n",
    "\n",
    "import fermi_fit\n",
    "\n",
    "dk = 2./n_kmax\n",
    "\n",
    "get_dispersion = system.electron_dispersion\n",
    "get_DOS = system.electron_DOS\n",
    "\n",
    "get_k = system.get_k\n",
    "\n",
    "ks = get_k(dk,np.arange(n_kmax))\n",
    "DOS = get_DOS(ks)\n",
    "ens = get_dispersion(ks)\n",
    "\n",
    "# print(DOS.shape, ens.shape)\n",
    "\n",
    "fermi_fitter = fermi_fit.fermi_fit(DOS,ens,ELPH_dyn.kB)"
   ]
  },
  {
   "cell_type": "code",
   "execution_count": null,
   "id": "16f27a28",
   "metadata": {},
   "outputs": [],
   "source": [
    "Temps = []\n",
    "\n",
    "for r,run in enumerate(trajectories):\n",
    "    print('run: ', r)\n",
    "    Temp_ar = np.zeros(run.shape[0])\n",
    "    for k in range(run.shape[0]):\n",
    "        mu,Temp,steps = fermi_fitter.fit(run[k], 0.1, 1000, False)\n",
    "        Temp_ar[k] = Temp\n",
    "        \n",
    "    Temps.append(Temp_ar)"
   ]
  },
  {
   "cell_type": "code",
   "execution_count": null,
   "id": "a64c54fa",
   "metadata": {},
   "outputs": [],
   "source": [
    "plt.plot(Temps[9])\n",
    "plt.show()"
   ]
  },
  {
   "cell_type": "code",
   "execution_count": null,
   "id": "3c209f79",
   "metadata": {},
   "outputs": [],
   "source": [
    "dim_reducer = derrom.dim_reducers.SVD()\n",
    "scaler = derrom.scalers.standardize_scaler(1.0)\n",
    "transformer = derrom.transformers.ELM_features(ELM_nodes=1000)\n",
    "optimizer = derrom.optimizers.ridge(alpha=10.**-3)\n",
    "\n",
    "model = derrom.derrom(trajectories, Temps, rdim=15, DE_l=2, intercept=True, full_hist=False, \n",
    "                      optimizer=optimizer,\n",
    "                      scaler=scaler,\n",
    "                      dim_reducer=dim_reducer,\n",
    "                      NL_transformer=transformer)\n",
    "\n",
    "model.train()\n",
    "\n",
    "model.print_status()"
   ]
  },
  {
   "cell_type": "code",
   "execution_count": null,
   "id": "3c8206ba",
   "metadata": {},
   "outputs": [],
   "source": [
    "ind = 1\n",
    "\n",
    "test_trajectory = trajectories[ind]\n",
    "truth = Temps[ind].reshape((-1,1))\n",
    "\n",
    "pred = model.predict(test_trajectory)\n",
    "\n",
    "\n",
    "plt.plot(truth)\n",
    "plt.plot(pred)\n",
    "# plt.xlim(0,10)\n",
    "plt.show()\n",
    "\n",
    "plt.plot(pred-truth)\n",
    "plt.xlim(0,50)\n",
    "plt.show()\n",
    "\n",
    "\n",
    "print( model.get_error(test_trajectory,truth,pred,norm='NF') ) \n",
    "print( model.get_error(test_trajectory,truth,norm='NF') ) \n",
    "print( model.get_error(truth=truth, pred=pred, norm='NF') ) "
   ]
  }
 ],
 "metadata": {
  "kernelspec": {
   "display_name": "Python 3 (ipykernel)",
   "language": "python",
   "name": "python3"
  },
  "language_info": {
   "codemirror_mode": {
    "name": "ipython",
    "version": 3
   },
   "file_extension": ".py",
   "mimetype": "text/x-python",
   "name": "python",
   "nbconvert_exporter": "python",
   "pygments_lexer": "ipython3",
   "version": "3.9.2"
  }
 },
 "nbformat": 4,
 "nbformat_minor": 5
}
