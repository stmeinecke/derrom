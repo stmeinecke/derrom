{
 "cells": [
  {
   "cell_type": "code",
   "execution_count": 1,
   "id": "96d2b306",
   "metadata": {},
   "outputs": [],
   "source": [
    "%load_ext autoreload\n",
    "%autoreload 2\n",
    "\n",
    "import numpy as np\n",
    "import matplotlib.pyplot as plt\n",
    "plt.rcParams['figure.figsize'] = [9, 6]\n",
    "\n",
    "# %matplotlib notebook\n",
    "\n",
    "import sys\n",
    "sys.path.append(\"incl/\")\n",
    "\n",
    "import derrom"
   ]
  },
  {
   "cell_type": "code",
   "execution_count": 2,
   "id": "62192ead",
   "metadata": {},
   "outputs": [
    {
     "name": "stdout",
     "output_type": "stream",
     "text": [
      "29 loaded with n_kmax = 200\n"
     ]
    }
   ],
   "source": [
    "trajectories = derrom.utils.load_trajectories(filename='../trajectories_n_kmax=200.npz')\n",
    "\n",
    "trajectories = trajectories[:29:1]\n",
    "\n",
    "n_trajectories = len(trajectories)\n",
    "n_kmax = trajectories[0].shape[1]\n",
    "\n",
    "print(n_trajectories, 'loaded with n_kmax =', n_kmax)"
   ]
  },
  {
   "cell_type": "code",
   "execution_count": 3,
   "id": "67a14556",
   "metadata": {},
   "outputs": [],
   "source": [
    "system = ELPH_dyn.ELPH(kmax=2.0,n_kmax=n_kmax)\n",
    "\n",
    "\n",
    "import fermi_fit\n",
    "\n",
    "dk = 2./n_kmax\n",
    "\n",
    "get_dispersion = system.electron_dispersion\n",
    "get_DOS = system.electron_DOS\n",
    "\n",
    "get_k = system.get_k\n",
    "\n",
    "ks = get_k(dk,np.arange(n_kmax))\n",
    "DOS = get_DOS(ks)\n",
    "ens = get_dispersion(ks)\n",
    "\n",
    "# print(DOS.shape, ens.shape)\n",
    "\n",
    "fermi_fitter = fermi_fit.fermi_fit(DOS,ens,ELPH_dyn.kB)"
   ]
  },
  {
   "cell_type": "code",
   "execution_count": 4,
   "id": "16f27a28",
   "metadata": {},
   "outputs": [
    {
     "name": "stdout",
     "output_type": "stream",
     "text": [
      "run:  0\n",
      "run:  1\n",
      "run:  2\n",
      "run:  3\n",
      "run:  4\n",
      "run:  5\n",
      "run:  6\n",
      "run:  7\n",
      "run:  8\n",
      "run:  9\n",
      "run:  10\n",
      "run:  11\n",
      "run:  12\n",
      "run:  13\n",
      "run:  14\n",
      "run:  15\n",
      "run:  16\n",
      "run:  17\n",
      "run:  18\n",
      "run:  19\n",
      "run:  20\n",
      "run:  21\n",
      "run:  22\n",
      "run:  23\n",
      "run:  24\n",
      "run:  25\n",
      "run:  26\n",
      "run:  27\n",
      "run:  28\n"
     ]
    }
   ],
   "source": [
    "Temps = []\n",
    "\n",
    "for r,run in enumerate(trajectories):\n",
    "    print('run: ', r)\n",
    "    Temp_ar = np.zeros(run.shape[0])\n",
    "    for k in range(run.shape[0]):\n",
    "        mu,Temp,steps = fermi_fitter.fit(run[k], 0.1, 1000, False)\n",
    "        Temp_ar[k] = Temp\n",
    "        \n",
    "    Temps.append(Temp_ar)"
   ]
  },
  {
   "cell_type": "code",
   "execution_count": 5,
   "id": "a64c54fa",
   "metadata": {},
   "outputs": [
    {
     "data": {
      "image/png": "[encoded data removed]",
      "text/plain": [
       "<Figure size 432x288 with 1 Axes>"
      ]
     },
     "metadata": {
      "needs_background": "light"
     },
     "output_type": "display_data"
    }
   ],
   "source": [
    "plt.plot(Temps[9])\n",
    "plt.show()"
   ]
  },
  {
   "cell_type": "code",
   "execution_count": 6,
   "id": "81757585",
   "metadata": {},
   "outputs": [],
   "source": [
    "import derrom"
   ]
  },
  {
   "cell_type": "code",
   "execution_count": 7,
   "id": "3c209f79",
   "metadata": {},
   "outputs": [
    {
     "ename": "NameError",
     "evalue": "name 'narrom' is not defined",
     "output_type": "error",
     "traceback": [
      "\u001b[0;31m---------------------------------------------------------------------------\u001b[0m",
      "\u001b[0;31mNameError\u001b[0m                                 Traceback (most recent call last)",
      "Input \u001b[0;32mIn [7]\u001b[0m, in \u001b[0;36m<cell line: 1>\u001b[0;34m()\u001b[0m\n\u001b[0;32m----> 1\u001b[0m dim_reducer \u001b[38;5;241m=\u001b[39m \u001b[43mnarrom\u001b[49m\u001b[38;5;241m.\u001b[39mdim_reducer\u001b[38;5;241m.\u001b[39mSVD()\n\u001b[1;32m      2\u001b[0m scaler \u001b[38;5;241m=\u001b[39m narrom\u001b[38;5;241m.\u001b[39mscaler\u001b[38;5;241m.\u001b[39mstandardize_scaler(\u001b[38;5;241m1.0\u001b[39m)\n\u001b[1;32m      3\u001b[0m transformer \u001b[38;5;241m=\u001b[39m narrom\u001b[38;5;241m.\u001b[39mtransformer\u001b[38;5;241m.\u001b[39mELM_features(ELM_nodes\u001b[38;5;241m=\u001b[39m\u001b[38;5;241m1000\u001b[39m)\n",
      "\u001b[0;31mNameError\u001b[0m: name 'narrom' is not defined"
     ]
    }
   ],
   "source": [
    "dim_reducer = narrom.dim_reducer.SVD()\n",
    "scaler = narrom.scaler.standardize_scaler(1.0)\n",
    "transformer = narrom.transformer.ELM_features(ELM_nodes=1000)\n",
    "optimizer = narrom.optimizer.ridge(alpha=10.**-3)\n",
    "\n",
    "model = derrom.derrom(trajectories, Temps, rdim=15, VAR_l=2, intercept=True, full_hist=False, optimizer=optimizer, scaler=scaler, dim_reducer=dim_reducer, VAR_transformer=transformer)\n",
    "\n",
    "model.train()\n",
    "\n",
    "model.print_status()"
   ]
  },
  {
   "cell_type": "code",
   "execution_count": null,
   "id": "3c8206ba",
   "metadata": {},
   "outputs": [],
   "source": [
    "ind = 0\n",
    "\n",
    "test_trajectory = trajectories[ind]\n",
    "truth = Temps[ind].reshape((-1,1))\n",
    "\n",
    "pred = model.predict(test_trajectory)\n",
    "\n",
    "\n",
    "plt.plot(truth)\n",
    "plt.plot(pred)\n",
    "# plt.xlim(0,10)\n",
    "plt.show()\n",
    "\n",
    "plt.plot(pred-truth)\n",
    "plt.xlim(0,50)\n",
    "plt.show()\n",
    "\n",
    "\n",
    "print( model.get_error(test_trajectory,truth,pred,norm='NF') ) \n",
    "print( model.get_error(test_trajectory,truth,norm='NF') ) \n",
    "print( model.get_error(truth=truth, pred=pred, norm='NF') ) "
   ]
  }
 ],
 "metadata": {
  "kernelspec": {
   "display_name": "Python 3 (ipykernel)",
   "language": "python",
   "name": "python3"
  },
  "language_info": {
   "codemirror_mode": {
    "name": "ipython",
    "version": 3
   },
   "file_extension": ".py",
   "mimetype": "text/x-python",
   "name": "python",
   "nbconvert_exporter": "python",
   "pygments_lexer": "ipython3",
   "version": "3.9.2"
  }
 },
 "nbformat": 4,
 "nbformat_minor": 5
}
