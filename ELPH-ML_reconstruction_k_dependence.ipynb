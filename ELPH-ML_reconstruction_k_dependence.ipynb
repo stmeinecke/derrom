{
 "cells": [
  {
   "cell_type": "code",
   "execution_count": 1,
   "id": "f518b238",
   "metadata": {},
   "outputs": [],
   "source": [
    "%load_ext autoreload\n",
    "%autoreload 2\n",
    "\n",
    "import numpy as np\n",
    "import matplotlib.pyplot as plt\n",
    "plt.rcParams['figure.figsize'] = [9, 6]\n",
    "\n",
    "import sys\n",
    "\n",
    "sys.path.append(\"incl/\")\n",
    "\n",
    "import narrom\n"
   ]
  },
  {
   "cell_type": "code",
   "execution_count": 2,
   "id": "543f214f",
   "metadata": {},
   "outputs": [
    {
     "name": "stdout",
     "output_type": "stream",
     "text": [
      "1000 loaded with n_kmax = 200\n"
     ]
    }
   ],
   "source": [
    "trajectories = narrom.utils.load_trajectories(filename='/home/agluedge/Preprints/ELPH/runs/runs_n_kmax=200.npz')\n",
    "\n",
    "# trajectories = trajectories[:100:1]\n",
    "\n",
    "for k in range(len(trajectories)):\n",
    "    trajectories[k] = trajectories[k].T\n",
    "\n",
    "n_trajectories = len(trajectories)\n",
    "n_kmax = trajectories[0].shape[1]\n",
    "\n",
    "print(n_trajectories, 'loaded with n_kmax =', n_kmax)"
   ]
  },
  {
   "cell_type": "code",
   "execution_count": 3,
   "id": "95d12b36",
   "metadata": {},
   "outputs": [],
   "source": [
    "rdim = 20\n",
    "\n",
    "dim_reducer = narrom.dim_reducer.SVD()\n",
    "# dim_reducer = narrom.dim_reducer.FFT(sorted=True)\n",
    "# dim_reducer = narrom.dim_reducerr.Hermite(sample_max = 1.856, sorted=True, optimize=True, orthogonalize=True, train_rdim=rdim)\n",
    "\n",
    "model = narrom.utils.reducer_helper_class(trajectories, dim_reducer)\n",
    "model.train()\n",
    "# print(dim_reducer.sample_max)\n",
    "\n",
    "# print(model.get_error(trajectories[9], rdim=rdim, norm='NF'))"
   ]
  },
  {
   "cell_type": "code",
   "execution_count": 4,
   "id": "cbfe6109",
   "metadata": {},
   "outputs": [
    {
     "name": "stdout",
     "output_type": "stream",
     "text": [
      "NF error:  0.0009622046570920337+-0.0006961971392431697\n",
      "max error:  0.022750124978527027+-0.023848252991729588\n"
     ]
    }
   ],
   "source": [
    "rdim = 20\n",
    "\n",
    "dim_reducer = narrom.dim_reducer.SVD()\n",
    "# dim_reducer = narrom.dim_reducer.FFT(sorted=True)\n",
    "# dim_reducer = narrom.dim_reducerr.Hermite(sample_max = 1.856, sorted=True, optimize=True, orthogonalize=True, train_rdim=rdim)\n",
    "\n",
    "model = narrom.utils.reducer_helper_class(trajectories, dim_reducer)\n",
    "\n",
    "train_kwargs = {'rdim':rdim}\n",
    "\n",
    "scores = narrom.utils.get_KFold_CV_scores(model, trajectories, folds=10, seed=817, norms=['NF','max'], train_kwargs=train_kwargs)\n",
    "\n",
    "print('NF error: ', str(np.mean(scores[0])) + '+-' + str(np.std(scores[0])) )\n",
    "print('max error: ', str(np.mean(scores[1])) + '+-' + str(np.std(scores[1])) )\n"
   ]
  },
  {
   "cell_type": "code",
   "execution_count": 5,
   "id": "f7ddcf5e",
   "metadata": {},
   "outputs": [
    {
     "data": {
      "image/png": "[encoded data removed]",
      "text/plain": [
       "<Figure size 432x288 with 1 Axes>"
      ]
     },
     "metadata": {
      "needs_background": "light"
     },
     "output_type": "display_data"
    },
    {
     "data": {
      "image/png": "[encoded data removed]",
      "text/plain": [
       "<Figure size 432x288 with 1 Axes>"
      ]
     },
     "metadata": {
      "needs_background": "light"
     },
     "output_type": "display_data"
    }
   ],
   "source": [
    "plt.hist(scores[0],bins=200)\n",
    "plt.show()\n",
    "\n",
    "plt.hist(scores[1],bins=200)\n",
    "plt.show()"
   ]
  },
  {
   "cell_type": "code",
   "execution_count": null,
   "id": "b87559e1",
   "metadata": {
    "scrolled": false
   },
   "outputs": [],
   "source": [
    "norm = 'NF'\n",
    "threshold = 0.01\n",
    "\n",
    "# n_kmax_ar = [220,230]\n",
    "n_kmax_ar = [10,20,30,40]\n",
    "# n_kmax_ar = np.arange(10,235,10)\n",
    "n_kmax_ar = np.arange(50,255,10)\n",
    "\n",
    "rdim_buffer = 5\n",
    "previous_min_rdim = 1 + rdim_buffer\n",
    "min_rdim_ar = []\n",
    "\n",
    "for k, n_kmax in enumerate(n_kmax_ar):\n",
    "    trajectories = narrom.utils.load_trajectories(filename='/home/agluedge/Preprints/ELPH/runs/runs_n_kmax='+str(n_kmax)+'.npz')\n",
    "    n_trajectories = len(trajectories)\n",
    "    for k in range(len(trajectories)):\n",
    "        trajectories[k] = trajectories[k].T\n",
    "    assert n_kmax == trajectories[0].shape[1]\n",
    "    \n",
    "    print(n_trajectories, 'loaded with n_kmax =', n_kmax)\n",
    "    \n",
    "    for rdim in range(previous_min_rdim-rdim_buffer,n_kmax+1):\n",
    "        \n",
    "        try:\n",
    "            dim_reducer = narrom.dim_reducer.SVD()\n",
    "#             dim_reducer = narrom.dim_reducer.FFT(sorted=True)\n",
    "#             dim_reducer = narrom.dim_reducer.Hermite(sorted=True, optimize=True, orthogonalize=True, train_rdim=rdim)\n",
    "\n",
    "            model = narrom.utils.reducer_helper_class(dim_reducer=dim_reducer)\n",
    "\n",
    "            train_kwargs = {'rdim':rdim}\n",
    "\n",
    "            scores = narrom.utils.get_KFold_CV_scores(model, trajectories, folds=10, seed=817, norms=[norm], train_kwargs=train_kwargs)\n",
    "            \n",
    "            mean = np.mean(scores[0])\n",
    "            std = np.std(scores[0])\n",
    "\n",
    "            score = mean+std\n",
    "\n",
    "            if score < threshold:\n",
    "                previous_min_rdim = rdim\n",
    "                min_rdim_ar.append(rdim)\n",
    "                print('min rdim:', rdim, 'mean + std', score)\n",
    "                break\n",
    "        except:\n",
    "            score = 10.0\n",
    "            \n",
    "    if score > threshold:        \n",
    "        min_rdim_ar.append(rdim)\n",
    "        print('max rdim reached:', rdim, 'mean score', score)\n",
    "    "
   ]
  },
  {
   "cell_type": "code",
   "execution_count": null,
   "id": "06f7231c",
   "metadata": {},
   "outputs": [],
   "source": [
    "n_kmax_ar = np.asarray(n_kmax_ar)\n",
    "min_rdim_ar = np.asarray(min_rdim_ar)\n",
    "\n",
    "data = np.stack((n_kmax_ar[:min_rdim_ar.size],min_rdim_ar),axis=1)\n",
    "\n",
    "# prev_data = np.loadtxt('/home/agluedge/Preprints/ELPH/figs/red_dim_apprx/hermite_max')\n",
    "# data = np.concatenate((prev_data,data),axis=0)\n",
    "\n",
    "\n",
    "print(data.shape)\n",
    "print(data)\n",
    "\n",
    "# np.savetxt('/home/agluedge/Preprints/ELPH/figs/red_dim_apprx/hermite_max_2', data)\n",
    "\n",
    "\n",
    "\n",
    "plt.grid()\n",
    "plt.plot(data[:,0],data[:,1], '--', marker='o')\n",
    "plt.xlabel('n_kmax')\n",
    "plt.ylabel('min rdim')\n",
    "plt.show()\n",
    "\n",
    "\n",
    "plt.grid()\n",
    "plt.plot(data[:,0],data[:,1]/data[:,0], '--', marker='o')\n",
    "plt.xlabel('n_kmax')\n",
    "plt.ylabel('min rdim/n_kmax')\n",
    "plt.show()"
   ]
  }
 ],
 "metadata": {
  "kernelspec": {
   "display_name": "Python 3 (ipykernel)",
   "language": "python",
   "name": "python3"
  },
  "language_info": {
   "codemirror_mode": {
    "name": "ipython",
    "version": 3
   },
   "file_extension": ".py",
   "mimetype": "text/x-python",
   "name": "python",
   "nbconvert_exporter": "python",
   "pygments_lexer": "ipython3",
   "version": "3.9.2"
  }
 },
 "nbformat": 4,
 "nbformat_minor": 5
}
