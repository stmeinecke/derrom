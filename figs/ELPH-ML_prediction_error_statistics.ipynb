{
 "cells": [
  {
   "cell_type": "code",
   "execution_count": 3,
   "id": "d5d14e09",
   "metadata": {},
   "outputs": [
    {
     "name": "stdout",
     "output_type": "stream",
     "text": [
      "The autoreload extension is already loaded. To reload it, use:\n",
      "  %reload_ext autoreload\n"
     ]
    }
   ],
   "source": [
    "%load_ext autoreload\n",
    "%autoreload 2\n",
    "\n",
    "import numpy as np\n",
    "import matplotlib.pyplot as plt\n",
    "plt.rcParams['figure.figsize'] = [9, 6]\n",
    "\n",
    "import sys\n",
    "\n",
    "sys.path.append(\"../incl/\")\n",
    "\n",
    "import ELPH_utils\n",
    "import codimar"
   ]
  },
  {
   "cell_type": "code",
   "execution_count": 4,
   "id": "bd17f29d",
   "metadata": {},
   "outputs": [
    {
     "name": "stdout",
     "output_type": "stream",
     "text": [
      "1000 loaded with n_kmax = 200\n"
     ]
    }
   ],
   "source": [
    "runs = ELPH_utils.load_runs(filename='/home/agluedge/Preprints/ELPH/runs/runs_n_kmax=200.npz')\n",
    "\n",
    "# runs = runs[::1]\n",
    "# for k in range(len(runs)):\n",
    "#     runs[k] = runs[k][:,::2]\n",
    "\n",
    "n_runs = len(runs)\n",
    "n_kmax = runs[0].shape[0]\n",
    "\n",
    "print(n_runs, 'loaded with n_kmax =', n_kmax)"
   ]
  },
  {
   "cell_type": "code",
   "execution_count": 5,
   "id": "c573dad3",
   "metadata": {},
   "outputs": [
    {
     "name": "stdout",
     "output_type": "stream",
     "text": [
      "std error:  0.006301407495053643+-0.00393118079468427\n",
      "max error:  0.03138361624470426+-0.022604387936276796\n"
     ]
    }
   ],
   "source": [
    "optimizer = codimar.optimizer.ridge(alpha=10.**-3.5)\n",
    "scaler = codimar.scaler.normalize_scaler(0.1)\n",
    "dim_reducer = codimar.dim_compressor.SVD()\n",
    "VAR_transformer = codimar.transformer.polynomial_features(order=2)\n",
    "\n",
    "model = codimar.codimar(runs, n_VAR_steps=2, intercept=True, full_hist=False, optimizer=optimizer, scaler=scaler, dim_reducer=dim_reducer, VAR_transformer=VAR_transformer)\n",
    "\n",
    "train_kwargs = {'rdim':20, 'prdim':20}\n",
    "\n",
    "scores = ELPH_utils.get_KFold_CV_scores(model, runs, folds=10, seed=817, norms=['std','max'], train_kwargs=train_kwargs)\n",
    "\n",
    "print('std error: ', str(np.mean(scores[0])) + '+-' + str(np.std(scores[0])) )\n",
    "print('max error: ', str(np.mean(scores[1])) + '+-' + str(np.std(scores[1])) )"
   ]
  },
  {
   "cell_type": "code",
   "execution_count": 6,
   "id": "df2b04dc",
   "metadata": {},
   "outputs": [
    {
     "data": {
      "image/png": "[encoded data removed]",
      "text/plain": [
       "<Figure size 648x432 with 1 Axes>"
      ]
     },
     "metadata": {
      "needs_background": "light"
     },
     "output_type": "display_data"
    },
    {
     "data": {
      "image/png": "[encoded data removed]",
      "text/plain": [
       "<Figure size 648x432 with 1 Axes>"
      ]
     },
     "metadata": {
      "needs_background": "light"
     },
     "output_type": "display_data"
    }
   ],
   "source": [
    "all_scores_std = scores[0]\n",
    "all_scores_max = scores[1]\n",
    "\n",
    "plt.hist(all_scores_std, bins=100)\n",
    "plt.show()\n",
    "\n",
    "plt.hist(all_scores_max, bins=100)\n",
    "plt.show()"
   ]
  },
  {
   "cell_type": "code",
   "execution_count": 7,
   "id": "bf47da7c",
   "metadata": {},
   "outputs": [
    {
     "data": {
      "image/png": "[encoded data removed]",
      "text/plain": [
       "<Figure size 252x180 with 2 Axes>"
      ]
     },
     "metadata": {
      "needs_background": "light"
     },
     "output_type": "display_data"
    }
   ],
   "source": [
    "####################################################\n",
    "####################################################\n",
    "####################################################\n",
    "\n",
    "from matplotlib import rc\n",
    "rc('text', usetex=True)\n",
    "\n",
    "from matplotlib import gridspec\n",
    "import matplotlib.ticker as ticker\n",
    "\n",
    "fs = 7\n",
    "fig = plt.figure(figsize=(3.5,2.5))\n",
    "plt.rcParams.update({'font.size': fs})\n",
    "gs = gridspec.GridSpec(nrows=2, ncols=1, width_ratios=[1], height_ratios=[1,1])\n",
    "\n",
    "\n",
    "\n",
    "\n",
    "####################################################\n",
    "####################################################\n",
    "####################################################\n",
    "\n",
    "\n",
    "ax00 = plt.subplot(gs[0,0])\n",
    "\n",
    "plt.hist(all_scores_std, bins=100)\n",
    "\n",
    "plt.xlabel(r'normalized Frobenius error')\n",
    "plt.ylabel(r'counts')\n",
    "\n",
    "ax00.xaxis.set_ticks_position('both')\n",
    "ax00.yaxis.set_ticks_position('both')\n",
    "ax00.tick_params(which='both', direction='in', color='k')\n",
    "\n",
    "ax00.xaxis.set_major_locator(ticker.MultipleLocator(0.005))\n",
    "ax00.xaxis.set_minor_locator(ticker.MultipleLocator(0.001))\n",
    "# ax00.xaxis.set_major_formatter(ticker.NullFormatter())\n",
    "# ax00.xaxis.set_minor_formatter(ticker.NullFormatter())\n",
    "\n",
    "ax00.yaxis.set_major_locator(ticker.MultipleLocator(20))\n",
    "ax00.yaxis.set_minor_locator(ticker.MultipleLocator(4))\n",
    "#ax00.yaxis.set_major_formatter(ticker.NullFormatter())\n",
    "#ax00.yaxis.set_minor_formatter(ticker.NullFormatter())\n",
    "\n",
    "plt.text(0.03, 0.97,r'(a)', horizontalalignment='left', verticalalignment='top', transform=ax00.transAxes)\n",
    "\n",
    "####################################################\n",
    "####################################################\n",
    "####################################################\n",
    "\n",
    "\n",
    "ax00 = plt.subplot(gs[1,0])\n",
    "\n",
    "plt.hist(all_scores_max, bins=100)\n",
    "\n",
    "plt.xlabel(r'maximum absolut error')\n",
    "plt.ylabel(r'counts')\n",
    "\n",
    "ax00.xaxis.set_ticks_position('both')\n",
    "ax00.yaxis.set_ticks_position('both')\n",
    "ax00.tick_params(which='both', direction='in', color='k')\n",
    "\n",
    "ax00.xaxis.set_major_locator(ticker.MultipleLocator(0.02))\n",
    "ax00.xaxis.set_minor_locator(ticker.MultipleLocator(0.008))\n",
    "# ax00.xaxis.set_major_formatter(ticker.NullFormatter())\n",
    "# ax00.xaxis.set_minor_formatter(ticker.NullFormatter())\n",
    "\n",
    "ax00.yaxis.set_major_locator(ticker.MultipleLocator(20))\n",
    "ax00.yaxis.set_minor_locator(ticker.MultipleLocator(4))\n",
    "#ax00.yaxis.set_major_formatter(ticker.NullFormatter())\n",
    "#ax00.yaxis.set_minor_formatter(ticker.NullFormatter())\n",
    "\n",
    "plt.text(0.03, 0.97,r'(b)', horizontalalignment='left', verticalalignment='top', transform=ax00.transAxes)\n",
    "\n",
    "####################################################\n",
    "####################################################\n",
    "####################################################\n",
    "\n",
    "\n",
    "\n",
    "plt.tight_layout()\n",
    "\n",
    "plt.savefig('/home/agluedge/Preprints/ELPH/figs/pred_error_statistics.pdf')\n",
    "plt.show()"
   ]
  }
 ],
 "metadata": {
  "kernelspec": {
   "display_name": "Python 3 (ipykernel)",
   "language": "python",
   "name": "python3"
  },
  "language_info": {
   "codemirror_mode": {
    "name": "ipython",
    "version": 3
   },
   "file_extension": ".py",
   "mimetype": "text/x-python",
   "name": "python",
   "nbconvert_exporter": "python",
   "pygments_lexer": "ipython3",
   "version": "3.9.2"
  }
 },
 "nbformat": 4,
 "nbformat_minor": 5
}
