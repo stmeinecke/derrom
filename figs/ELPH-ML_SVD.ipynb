{
 "cells": [
  {
   "cell_type": "code",
   "execution_count": 5,
   "id": "9ff1ec8a",
   "metadata": {},
   "outputs": [
    {
     "name": "stdout",
     "output_type": "stream",
     "text": [
      "The autoreload extension is already loaded. To reload it, use:\n",
      "  %reload_ext autoreload\n"
     ]
    }
   ],
   "source": [
    "%load_ext autoreload\n",
    "%autoreload 2\n",
    "\n",
    "import numpy as np\n",
    "import matplotlib.pyplot as plt\n",
    "plt.rcParams['figure.figsize'] = [9, 6]\n",
    "\n",
    "# %matplotlib notebook\n",
    "\n",
    "import sys\n",
    "\n",
    "sys.path.append(\"../incl/\")\n",
    "\n",
    "# import ELPH_utils\n",
    "import ELPH_dyn\n",
    "# import codimar\n",
    "\n",
    "# from RedDimApprox import RedDimApprox\n",
    "\n",
    "import narrom"
   ]
  },
  {
   "cell_type": "code",
   "execution_count": 6,
   "id": "a89d2503",
   "metadata": {},
   "outputs": [
    {
     "name": "stdout",
     "output_type": "stream",
     "text": [
      "1000 loaded with n_kmax = 200\n"
     ]
    }
   ],
   "source": [
    "trajectories = narrom.utils.load_trajectories(filename='/home/agluedge/Preprints/ELPH/runs/runs_n_kmax=200.npz')\n",
    "\n",
    "# trajectories = trajectories[:100:1]\n",
    "\n",
    "for k in range(len(trajectories)):\n",
    "    trajectories[k] = trajectories[k].T\n",
    "\n",
    "n_trajectories = len(trajectories)\n",
    "n_kmax = trajectories[0].shape[1]\n",
    "\n",
    "print(n_trajectories, 'loaded with n_kmax =', n_kmax)"
   ]
  },
  {
   "cell_type": "code",
   "execution_count": 7,
   "id": "658866c7",
   "metadata": {},
   "outputs": [],
   "source": [
    "dim_reducer = narrom.dim_reducer.SVD()\n",
    "\n",
    "model = narrom.utils.reducer_helper_class(trajectories, dim_reducer)\n",
    "model.train()"
   ]
  },
  {
   "cell_type": "code",
   "execution_count": 8,
   "id": "05a37f0f",
   "metadata": {
    "scrolled": false
   },
   "outputs": [
    {
     "data": {
      "image/png": "[encoded data removed]",
      "text/plain": [
       "<Figure size 252x180 with 2 Axes>"
      ]
     },
     "metadata": {
      "needs_background": "light"
     },
     "output_type": "display_data"
    }
   ],
   "source": [
    "kmax = 4.\n",
    "n_kmax = 200\n",
    "\n",
    "E_el = ELPH_dyn.electron_dispersion(np.linspace(0,kmax,n_kmax,endpoint=True),0)\n",
    "\n",
    "\n",
    "\n",
    "####################################################\n",
    "####################################################\n",
    "####################################################\n",
    "\n",
    "from matplotlib import rc\n",
    "rc('text', usetex=True)\n",
    "\n",
    "from matplotlib import gridspec\n",
    "import matplotlib.ticker as ticker\n",
    "\n",
    "fs = 7\n",
    "fig = plt.figure(figsize=(3.5,2.5))\n",
    "plt.rcParams.update({'font.size': fs})\n",
    "gs = gridspec.GridSpec(nrows=2, ncols=1, width_ratios=[1], height_ratios=[1,1.5])\n",
    "\n",
    "\n",
    "####################################################\n",
    "####################################################\n",
    "####################################################\n",
    "\n",
    "\n",
    "ax00 = plt.subplot(gs[0,0])\n",
    "\n",
    "plt.grid(0.5)\n",
    "plt.semilogy(np.arange(1,200.5,1),dim_reducer.S,'o',ms=3)\n",
    "\n",
    "plt.xlim(1,200)\n",
    "# plt.ylim(0,1)\n",
    "\n",
    "# plt.title('singular values')\n",
    "plt.xlabel(r'singular value number $l$')\n",
    "plt.ylabel(r'singular values $\\sigma_l$')\n",
    "\n",
    "ax00.xaxis.set_ticks_position('both')\n",
    "ax00.yaxis.set_ticks_position('both')\n",
    "ax00.tick_params(which='both', direction='in', color='k')\n",
    "\n",
    "# ax00.xaxis.set_major_locator(ticker.MultipleLocator(50))\n",
    "ax00.xaxis.set_major_locator(ticker.FixedLocator([1,50,100,150,200]))\n",
    "ax00.xaxis.set_minor_locator(ticker.MultipleLocator(10))\n",
    "# ax00.xaxis.set_major_formatter(ticker.NullFormatter())\n",
    "# ax00.xaxis.set_minor_formatter(ticker.NullFormatter())\n",
    "\n",
    "# ax00.yaxis.set_major_locator(ticker.MultipleLocator(0.2))\n",
    "# ax00.yaxis.set_minor_locator(ticker.MultipleLocator(0.04))\n",
    "#ax00.yaxis.set_major_formatter(ticker.NullFormatter())\n",
    "#ax00.yaxis.set_minor_formatter(ticker.NullFormatter())\n",
    "\n",
    "plt.text(0.015, 0.97,r'(a)', horizontalalignment='left', verticalalignment='top', transform=ax00.transAxes)\n",
    "\n",
    "####################################################\n",
    "####################################################\n",
    "####################################################\n",
    "\n",
    "\n",
    "ax00 = plt.subplot(gs[1,0])\n",
    "\n",
    "plt.grid(0.5)\n",
    "\n",
    "rdim = 6\n",
    "for l in range(rdim):\n",
    "    plt.plot(E_el,dim_reducer.U[:,l],  label=r'$\\mathbf{u}_'+str(l+1)+'$')\n",
    "# plt.title('first ' + str(rdim) + ' singular')\n",
    "\n",
    "plt.legend(loc='upper right')\n",
    "\n",
    "plt.xlim(0,1.2)\n",
    "# plt.ylim(0,1)\n",
    "\n",
    "\n",
    "plt.xlabel(r'kinetic energy [eV]')\n",
    "plt.ylabel(r'singular vectors $\\mathbf{u}_l$')\n",
    "\n",
    "ax00.xaxis.set_ticks_position('both')\n",
    "ax00.yaxis.set_ticks_position('both')\n",
    "ax00.tick_params(which='both', direction='in', color='k')\n",
    "\n",
    "# ax00.xaxis.set_major_locator(ticker.MultipleLocator(50))\n",
    "# ax00.xaxis.set_minor_locator(ticker.MultipleLocator(10))\n",
    "# ax00.xaxis.set_major_formatter(ticker.NullFormatter())\n",
    "# ax00.xaxis.set_minor_formatter(ticker.NullFormatter())\n",
    "\n",
    "# ax00.yaxis.set_major_locator(ticker.MultipleLocator(0.2))\n",
    "# ax00.yaxis.set_minor_locator(ticker.MultipleLocator(0.04))\n",
    "#ax00.yaxis.set_major_formatter(ticker.NullFormatter())\n",
    "#ax00.yaxis.set_minor_formatter(ticker.NullFormatter())\n",
    "\n",
    "plt.text(0.015, 0.97,r'(b)', horizontalalignment='left', verticalalignment='top', transform=ax00.transAxes)\n",
    "\n",
    "####################################################\n",
    "####################################################\n",
    "####################################################\n",
    "\n",
    "\n",
    "plt.tight_layout()\n",
    "\n",
    "plt.subplots_adjust(left=0.125, bottom=0.115, right=0.97, top=0.99, wspace=0.15, hspace=0.35)\n",
    "\n",
    "plt.savefig('/home/agluedge/Preprints/ELPH/figs/SVD.pdf')\n",
    "plt.show()"
   ]
  },
  {
   "cell_type": "code",
   "execution_count": 4,
   "id": "c9999fe7",
   "metadata": {},
   "outputs": [
    {
     "name": "stdout",
     "output_type": "stream",
     "text": [
      "example trajectory loaded with shape:  (400, 200)\n"
     ]
    }
   ],
   "source": [
    "test_trajectory = narrom.utils.load_trajectories(filename='/home/agluedge/Preprints/ELPH/example_run.npz')[0].T\n",
    "print('example trajectory loaded with shape: ', test_trajectory.shape)"
   ]
  },
  {
   "cell_type": "code",
   "execution_count": 5,
   "id": "2827e944",
   "metadata": {},
   "outputs": [
    {
     "name": "stdout",
     "output_type": "stream",
     "text": [
      "0.09517082553297851\n"
     ]
    }
   ],
   "source": [
    "pred = model.approx_single_run(test_trajectory, rdim=20)\n",
    "\n",
    "print(model.get_error(test_trajectory, pred, rdim=20, norm='max'))\n"
   ]
  },
  {
   "cell_type": "code",
   "execution_count": 6,
   "id": "c4028538",
   "metadata": {},
   "outputs": [],
   "source": [
    "rdim = 20\n",
    "\n",
    "red = dim_reducer.reduce(test_trajectory, rdim=rdim)\n"
   ]
  },
  {
   "cell_type": "code",
   "execution_count": 17,
   "id": "2b4edcb1",
   "metadata": {},
   "outputs": [
    {
     "name": "stdout",
     "output_type": "stream",
     "text": [
      "0.8015539573803004\n"
     ]
    },
    {
     "data": {
      "image/png": "[encoded data removed]",
      "text/plain": [
       "<Figure size 252x180 with 4 Axes>"
      ]
     },
     "metadata": {
      "needs_background": "light"
     },
     "output_type": "display_data"
    }
   ],
   "source": [
    "err = pred-test_trajectory\n",
    "\n",
    "\n",
    "####################################################\n",
    "####################################################\n",
    "####################################################\n",
    "\n",
    "from matplotlib import rc\n",
    "rc('text', usetex=True)\n",
    "\n",
    "from matplotlib import gridspec\n",
    "import matplotlib.ticker as ticker\n",
    "\n",
    "import matplotlib.colors as colors\n",
    "\n",
    "fs = 7\n",
    "fig = plt.figure(figsize=(3.5,2.5))\n",
    "plt.rcParams.update({'font.size': fs})\n",
    "gs = gridspec.GridSpec(nrows=2, ncols=2, width_ratios=[1,0.02], height_ratios=[1,1])\n",
    "\n",
    "\n",
    "####################################################\n",
    "####################################################\n",
    "####################################################\n",
    "\n",
    "\n",
    "ax00 = plt.subplot(gs[0,0])\n",
    "\n",
    "\n",
    "# extent = [0,2,0.5,red.shape[0]+0.5]\n",
    "extent = [0.5,red.shape[1]+0.5,0,2]\n",
    "\n",
    "\n",
    "vmin = red.min()\n",
    "vmax = red.max()\n",
    "print(vmax)\n",
    "        \n",
    "# midnorm = MidpointNormalize(vmin=vmin, vcenter=0.0, vmax=vmax)\n",
    "\n",
    "# plt.imshow(red, aspect='auto', interpolation='none')\n",
    "# im = plt.imshow(red, aspect='auto', interpolation='none', norm=colors.CenteredNorm(vcenter=0.0), cmap='RdYlBu_r', extent=extent, origin='lower')\n",
    "im = plt.imshow(red, aspect='auto', interpolation='none', norm=colors.TwoSlopeNorm(vcenter=0.0), cmap='RdYlBu_r', extent=extent, origin='lower', rasterized=True)\n",
    "# cbar = plt.colorbar()\n",
    "# cbar.set_label(r'coeffecient $r_l(t)$')\n",
    "\n",
    "# plt.ylim(1,200)\n",
    "plt.xlim(0.5,red.shape[1]+0.5)\n",
    "\n",
    "# plt.title('singular values')\n",
    "plt.ylabel(r'time [ps]')\n",
    "plt.xlabel(r'singular vector number $l$')\n",
    "\n",
    "ax00.xaxis.set_ticks_position('both')\n",
    "ax00.yaxis.set_ticks_position('both')\n",
    "ax00.tick_params(which='both', direction='in', color='k')\n",
    "\n",
    "# ax00.xaxis.set_major_locator(ticker.MultipleLocator(5))\n",
    "ax00.xaxis.set_major_locator(ticker.FixedLocator([1,5,10,15,20]))\n",
    "ax00.xaxis.set_minor_locator(ticker.MultipleLocator(1))\n",
    "# ax00.xaxis.set_major_formatter(ticker.NullFormatter())\n",
    "# ax00.xaxis.set_minor_formatter(ticker.NullFormatter())\n",
    "\n",
    "ax00.yaxis.set_major_locator(ticker.MultipleLocator(0.5))\n",
    "ax00.yaxis.set_minor_locator(ticker.MultipleLocator(0.1))\n",
    "#ax00.yaxis.set_major_formatter(ticker.NullFormatter())\n",
    "#ax00.yaxis.set_minor_formatter(ticker.NullFormatter())\n",
    "\n",
    "plt.text(0.05, 0.97,r'(a)', horizontalalignment='left', verticalalignment='top', transform=ax00.transAxes, rasterized=True)\n",
    "\n",
    "\n",
    "axCB = plt.subplot(gs[0,1])\n",
    "\n",
    "cb = plt.colorbar(im, cax = axCB)\n",
    "cb.set_label(r'coeffecient $r_l(t)$')\n",
    "\n",
    "axCB.yaxis.set_major_locator(ticker.FixedLocator([-2,-1,0,0.5]))\n",
    "\n",
    "####################################################\n",
    "####################################################\n",
    "####################################################\n",
    "\n",
    "t = np.linspace(0,2,err.shape[0])\n",
    "\n",
    "ax00 = plt.subplot(gs[1,0])\n",
    "\n",
    "vmin = err.min()\n",
    "vmax = err.max()\n",
    "        \n",
    "# midnorm = MidpointNormalize(vmin=vmin, vcenter=0.0, vmax=vmax)\n",
    "\n",
    "# plt.imshow(red, aspect='auto', interpolation='none')\n",
    "im = plt.pcolormesh(E_el,t,err,norm=colors.CenteredNorm(vcenter=0.0), cmap='bwr', shading='auto', rasterized=True)\n",
    "# cbar = plt.colorbar()\n",
    "# cbar.set_label(r'reconstruction error')\n",
    "\n",
    "# plt.xlim(0,1.2)\n",
    "plt.xlim(0,0.8)\n",
    "\n",
    "\n",
    "plt.ylabel(r'time [ps]')\n",
    "plt.xlabel(r'kinetic energy [eV]')\n",
    "\n",
    "ax00.xaxis.set_ticks_position('both')\n",
    "ax00.yaxis.set_ticks_position('both')\n",
    "ax00.tick_params(which='both', direction='in', color='k')\n",
    "\n",
    "ax00.xaxis.set_major_locator(ticker.MultipleLocator(0.2))\n",
    "ax00.xaxis.set_minor_locator(ticker.MultipleLocator(0.04))\n",
    "# ax00.xaxis.set_major_formatter(ticker.NullFormatter())\n",
    "# ax00.xaxis.set_minor_formatter(ticker.NullFormatter())\n",
    "\n",
    "ax00.yaxis.set_major_locator(ticker.MultipleLocator(0.5))\n",
    "ax00.yaxis.set_minor_locator(ticker.MultipleLocator(0.1))\n",
    "#ax00.yaxis.set_major_formatter(ticker.NullFormatter())\n",
    "#ax00.yaxis.set_minor_formatter(ticker.NullFormatter())\n",
    "\n",
    "plt.text(0.03, 0.97,r'(b)', horizontalalignment='left', verticalalignment='top', transform=ax00.transAxes)\n",
    "\n",
    "\n",
    "axCB = plt.subplot(gs[1,1])\n",
    "\n",
    "cb = plt.colorbar(im, cax = axCB)\n",
    "cb.set_label(r'reconstruction error')\n",
    "\n",
    "\n",
    "####################################################\n",
    "####################################################\n",
    "####################################################\n",
    "\n",
    "\n",
    "plt.tight_layout()\n",
    "\n",
    "plt.subplots_adjust(left=0.1, bottom=0.12, right=0.84, top=0.98, wspace=0.05, hspace=0.4)\n",
    "\n",
    "plt.savefig('/home/agluedge/Preprints/ELPH/figs/SVD_dyn_reduction.pdf', dpi=600)\n",
    "plt.show()"
   ]
  }
 ],
 "metadata": {
  "kernelspec": {
   "display_name": "Python 3 (ipykernel)",
   "language": "python",
   "name": "python3"
  },
  "language_info": {
   "codemirror_mode": {
    "name": "ipython",
    "version": 3
   },
   "file_extension": ".py",
   "mimetype": "text/x-python",
   "name": "python",
   "nbconvert_exporter": "python",
   "pygments_lexer": "ipython3",
   "version": "3.9.2"
  }
 },
 "nbformat": 4,
 "nbformat_minor": 5
}
