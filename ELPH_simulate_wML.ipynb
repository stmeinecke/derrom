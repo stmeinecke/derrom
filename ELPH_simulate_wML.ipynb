{
 "cells": [
  {
   "cell_type": "code",
   "execution_count": 2,
   "id": "85473de1",
   "metadata": {},
   "outputs": [
    {
     "name": "stdout",
     "output_type": "stream",
     "text": [
      "The autoreload extension is already loaded. To reload it, use:\n",
      "  %reload_ext autoreload\n"
     ]
    }
   ],
   "source": [
    "%load_ext autoreload\n",
    "%autoreload 2\n",
    "\n",
    "import numpy as np\n",
    "import matplotlib.pyplot as plt\n",
    "plt.rcParams['figure.figsize'] = [9, 6]\n",
    "\n",
    "import sys\n",
    "sys.path.append(\"derrom/\")\n",
    "sys.path.append(\"utils/\")\n",
    "\n",
    "import derrom\n",
    "\n",
    "from ivp_integrator import ivp_integrator"
   ]
  },
  {
   "cell_type": "code",
   "execution_count": 41,
   "id": "fec86644",
   "metadata": {},
   "outputs": [
    {
     "name": "stdout",
     "output_type": "stream",
     "text": [
      "1000 loaded with n_kmax = 200\n"
     ]
    }
   ],
   "source": [
    "trajectories = derrom.utils.load_trajectories(filename='../trajectories_n_kmax=200.npz')\n",
    "derivs = derrom.utils.load_trajectories(filename='../derivs_n_kmax=200.npz')\n",
    "\n",
    "\n",
    "ind = 1\n",
    "\n",
    "trajectories = trajectories[::ind]\n",
    "derivs = derivs[::ind]\n",
    "\n",
    "n_trajectories = len(trajectories)\n",
    "n_kmax = trajectories[0].shape[1]\n",
    "\n",
    "print(n_trajectories, 'loaded with n_kmax =', n_kmax)\n",
    "\n",
    "\n",
    "cutoff = int(n_trajectories*0.9)\n",
    "\n",
    "train_trajectories = trajectories[:cutoff]\n",
    "train_derivs = derivs[:cutoff]\n",
    "\n",
    "test_trajectories = trajectories[cutoff:]\n",
    "test_derivs = derivs[cutoff:]\n"
   ]
  },
  {
   "cell_type": "code",
   "execution_count": 44,
   "id": "48bc429b",
   "metadata": {},
   "outputs": [
    {
     "name": "stdout",
     "output_type": "stream",
     "text": [
      "full_hist:  False\n",
      "intercept:  True\n",
      "standardize:  True\n",
      "rdim:  10\n",
      "DE_l:  2\n",
      "weights shape:  (1021, 200)\n"
     ]
    }
   ],
   "source": [
    "dim_reducer = derrom.dim_reducers.SVD()\n",
    "\n",
    "scaler = derrom.scalers.standardize_scaler(1.0)\n",
    "transformer = derrom.transformers.ELM_features(ELM_nodes=1000)\n",
    "optimizer = derrom.optimizers.ridge(alpha=10.**4)\n",
    "\n",
    "# scaler = derrom.scalers.normalize_scaler(0.1)\n",
    "# transformer = derrom.transformers.polynomial_features(order=2)\n",
    "# optimizer = derrom.optimizers.ridge(alpha=10.**-1)\n",
    "\n",
    "model = derrom.derrom(train_trajectories, train_derivs, rdim=10, DE_l=2, intercept=True, full_hist=False,\n",
    "                    optimizer=optimizer,\n",
    "                    scaler=scaler,\n",
    "                    dim_reducer=dim_reducer,\n",
    "                    NL_transformer=transformer)\n",
    "\n",
    "model.train()\n",
    "\n",
    "model.print_status()"
   ]
  },
  {
   "cell_type": "code",
   "execution_count": 42,
   "id": "5244d34d",
   "metadata": {},
   "outputs": [],
   "source": [
    "integrator = ivp_integrator(model, dt=2.5, dt_out=5., method='Heun')"
   ]
  },
  {
   "cell_type": "code",
   "execution_count": 43,
   "id": "1679478f",
   "metadata": {
    "scrolled": false
   },
   "outputs": [
    {
     "ename": "AttributeError",
     "evalue": "'derrom' object has no attribute 'targets'",
     "output_type": "error",
     "traceback": [
      "\u001b[0;31m---------------------------------------------------------------------------\u001b[0m",
      "\u001b[0;31mAttributeError\u001b[0m                            Traceback (most recent call last)",
      "Input \u001b[0;32mIn [43]\u001b[0m, in \u001b[0;36m<cell line: 4>\u001b[0;34m()\u001b[0m\n\u001b[1;32m      1\u001b[0m test_trajectory \u001b[38;5;241m=\u001b[39m test_trajectories[\u001b[38;5;241m1\u001b[39m]\n\u001b[0;32m----> 4\u001b[0m pred \u001b[38;5;241m=\u001b[39m \u001b[43mintegrator\u001b[49m\u001b[38;5;241;43m.\u001b[39;49m\u001b[43mintegrate\u001b[49m\u001b[43m(\u001b[49m\u001b[43mtest_trajectory\u001b[49m\u001b[43m,\u001b[49m\u001b[43mtest_trajectory\u001b[49m\u001b[38;5;241;43m.\u001b[39;49m\u001b[43mshape\u001b[49m\u001b[43m[\u001b[49m\u001b[38;5;241;43m0\u001b[39;49m\u001b[43m]\u001b[49m\u001b[43m)\u001b[49m\n\u001b[1;32m      7\u001b[0m \u001b[38;5;28mprint\u001b[39m(\u001b[38;5;124m'\u001b[39m\u001b[38;5;124mrms error:\u001b[39m\u001b[38;5;124m'\u001b[39m, integrator\u001b[38;5;241m.\u001b[39mget_error(test_trajectory,pred, norm\u001b[38;5;241m=\u001b[39m\u001b[38;5;124m'\u001b[39m\u001b[38;5;124mrms\u001b[39m\u001b[38;5;124m'\u001b[39m))\n\u001b[1;32m      8\u001b[0m \u001b[38;5;28mprint\u001b[39m(\u001b[38;5;124m'\u001b[39m\u001b[38;5;124mmax error:\u001b[39m\u001b[38;5;124m'\u001b[39m, integrator\u001b[38;5;241m.\u001b[39mget_error(test_trajectory,pred, norm\u001b[38;5;241m=\u001b[39m\u001b[38;5;124m'\u001b[39m\u001b[38;5;124mmax\u001b[39m\u001b[38;5;124m'\u001b[39m))\n",
      "File \u001b[0;32m~/Work/numerics/derrom/derrom/utils/ivp_integrator.py:164\u001b[0m, in \u001b[0;36mivp_integrator.integrate\u001b[0;34m(self, init, n_steps, dt, dt_out)\u001b[0m\n\u001b[1;32m    162\u001b[0m         \u001b[38;5;28;01mreturn\u001b[39;00m \u001b[38;5;28mself\u001b[39m\u001b[38;5;241m.\u001b[39m__Heun(init,n_steps,dt,dt_out)\n\u001b[1;32m    163\u001b[0m     \u001b[38;5;28;01melse\u001b[39;00m:\n\u001b[0;32m--> 164\u001b[0m         \u001b[38;5;28;01mreturn\u001b[39;00m \u001b[38;5;28;43mself\u001b[39;49m\u001b[38;5;241;43m.\u001b[39;49m\u001b[43m__Heun_wdelay\u001b[49m\u001b[43m(\u001b[49m\u001b[43minit\u001b[49m\u001b[43m,\u001b[49m\u001b[43mn_steps\u001b[49m\u001b[43m,\u001b[49m\u001b[43mdt\u001b[49m\u001b[43m,\u001b[49m\u001b[43mdt_out\u001b[49m\u001b[43m)\u001b[49m\n\u001b[1;32m    165\u001b[0m \u001b[38;5;28;01melif\u001b[39;00m \u001b[38;5;28mself\u001b[39m\u001b[38;5;241m.\u001b[39mmethod \u001b[38;5;241m==\u001b[39m \u001b[38;5;124m'\u001b[39m\u001b[38;5;124mEuler\u001b[39m\u001b[38;5;124m'\u001b[39m:\n\u001b[1;32m    166\u001b[0m     \u001b[38;5;28;01mif\u001b[39;00m \u001b[38;5;28mself\u001b[39m\u001b[38;5;241m.\u001b[39mmodel\u001b[38;5;241m.\u001b[39mDE_l \u001b[38;5;241m==\u001b[39m \u001b[38;5;241m1\u001b[39m:\n",
      "File \u001b[0;32m~/Work/numerics/derrom/derrom/utils/ivp_integrator.py:135\u001b[0m, in \u001b[0;36mivp_integrator.__Heun_wdelay\u001b[0;34m(self, init, n_steps, dt, dt_out)\u001b[0m\n\u001b[1;32m    131\u001b[0m \u001b[38;5;28;01mfor\u001b[39;00m j \u001b[38;5;129;01min\u001b[39;00m \u001b[38;5;28mrange\u001b[39m(\u001b[38;5;241m1\u001b[39m,sol\u001b[38;5;241m.\u001b[39mshape[\u001b[38;5;241m0\u001b[39m]\u001b[38;5;241m*\u001b[39mj_out):\n\u001b[1;32m    133\u001b[0m     vecs \u001b[38;5;241m=\u001b[39m np\u001b[38;5;241m.\u001b[39mstack( [hist[(hist_ind \u001b[38;5;241m-\u001b[39m n\u001b[38;5;241m*\u001b[39mj_out \u001b[38;5;241m+\u001b[39m hist_length)\u001b[38;5;241m%\u001b[39mhist_length] \u001b[38;5;28;01mfor\u001b[39;00m n \u001b[38;5;129;01min\u001b[39;00m \u001b[38;5;28mrange\u001b[39m(\u001b[38;5;28mself\u001b[39m\u001b[38;5;241m.\u001b[39mmodel\u001b[38;5;241m.\u001b[39mDE_l\u001b[38;5;241m-\u001b[39m\u001b[38;5;241m1\u001b[39m,\u001b[38;5;241m-\u001b[39m\u001b[38;5;241m1\u001b[39m,\u001b[38;5;241m-\u001b[39m\u001b[38;5;241m1\u001b[39m)] )\n\u001b[0;32m--> 135\u001b[0m     f1 \u001b[38;5;241m=\u001b[39m \u001b[38;5;28;43mself\u001b[39;49m\u001b[38;5;241;43m.\u001b[39;49m\u001b[43mderivs\u001b[49m\u001b[43m(\u001b[49m\u001b[43mvecs\u001b[49m\u001b[43m)\u001b[49m\u001b[38;5;241m.\u001b[39mflatten()\n\u001b[1;32m    137\u001b[0m     hist_ind \u001b[38;5;241m=\u001b[39m (hist_ind\u001b[38;5;241m+\u001b[39m\u001b[38;5;241m1\u001b[39m)\u001b[38;5;241m%\u001b[39mhist_length\n\u001b[1;32m    139\u001b[0m     vecs \u001b[38;5;241m=\u001b[39m np\u001b[38;5;241m.\u001b[39mstack( [hist[(hist_ind \u001b[38;5;241m-\u001b[39m n\u001b[38;5;241m*\u001b[39mj_out \u001b[38;5;241m+\u001b[39m hist_length)\u001b[38;5;241m%\u001b[39mhist_length] \u001b[38;5;28;01mfor\u001b[39;00m n \u001b[38;5;129;01min\u001b[39;00m \u001b[38;5;28mrange\u001b[39m(\u001b[38;5;28mself\u001b[39m\u001b[38;5;241m.\u001b[39mmodel\u001b[38;5;241m.\u001b[39mDE_l\u001b[38;5;241m-\u001b[39m\u001b[38;5;241m1\u001b[39m,\u001b[38;5;241m0\u001b[39m,\u001b[38;5;241m-\u001b[39m\u001b[38;5;241m1\u001b[39m)]\u001b[38;5;241m+\u001b[39m[(state\u001b[38;5;241m+\u001b[39mdt\u001b[38;5;241m*\u001b[39mf1)\u001b[38;5;241m.\u001b[39mflatten()] )\n",
      "File \u001b[0;32m~/Work/numerics/derrom/derrom/derrom/derrom.py:219\u001b[0m, in \u001b[0;36mderrom.predict\u001b[0;34m(self, trajectory)\u001b[0m\n\u001b[1;32m    217\u001b[0m \u001b[38;5;28;01mdef\u001b[39;00m \u001b[38;5;21mpredict\u001b[39m(\u001b[38;5;28mself\u001b[39m, trajectory):\n\u001b[0;32m--> 219\u001b[0m     \u001b[38;5;28;01mif\u001b[39;00m \u001b[38;5;28;43mself\u001b[39;49m\u001b[38;5;241;43m.\u001b[39;49m\u001b[43mtargets\u001b[49m \u001b[38;5;241m==\u001b[39m \u001b[38;5;124m'\u001b[39m\u001b[38;5;124mAR\u001b[39m\u001b[38;5;124m'\u001b[39m:\n\u001b[1;32m    220\u001b[0m         \u001b[38;5;28;01mreturn\u001b[39;00m \u001b[38;5;28mself\u001b[39m\u001b[38;5;241m.\u001b[39mforecast(trajectory,trajectory\u001b[38;5;241m.\u001b[39mshape[\u001b[38;5;241m0\u001b[39m])\n\u001b[1;32m    221\u001b[0m     \u001b[38;5;28;01melse\u001b[39;00m:\n",
      "\u001b[0;31mAttributeError\u001b[0m: 'derrom' object has no attribute 'targets'"
     ]
    }
   ],
   "source": [
    "test_trajectory = test_trajectories[1]\n",
    "\n",
    "\n",
    "pred = integrator.integrate(test_trajectory,test_trajectory.shape[0])\n",
    "\n",
    "\n",
    "print('rms error:', integrator.get_error(test_trajectory,pred, norm='rms'))\n",
    "print('max error:', integrator.get_error(test_trajectory,pred, norm='max'))\n",
    "\n",
    "\n",
    "derrom.utils.plot_trajectory(pred)\n",
    "\n",
    "derrom.utils.plot_difference(truth=test_trajectory,test=pred)\n"
   ]
  },
  {
   "cell_type": "code",
   "execution_count": 6,
   "id": "903e00c3",
   "metadata": {},
   "outputs": [
    {
     "name": "stdout",
     "output_type": "stream",
     "text": [
      "0.015762719071385288\n"
     ]
    }
   ],
   "source": [
    "mean, mscores = integrator.score_multiple_trajectories(test_trajectories, norm='rms')\n",
    "print(mean)"
   ]
  },
  {
   "cell_type": "code",
   "execution_count": 7,
   "id": "42832916",
   "metadata": {},
   "outputs": [
    {
     "name": "stdout",
     "output_type": "stream",
     "text": [
      "0.015762719071385288\n"
     ]
    },
    {
     "data": {
      "image/png": "[encoded data removed]",
      "text/plain": [
       "<Figure size 432x288 with 1 Axes>"
      ]
     },
     "metadata": {
      "needs_background": "light"
     },
     "output_type": "display_data"
    }
   ],
   "source": [
    "print(mean)\n",
    "\n",
    "plt.hist(mscores,bins=20)\n",
    "plt.show()"
   ]
  },
  {
   "cell_type": "code",
   "execution_count": 40,
   "id": "a05a3024",
   "metadata": {},
   "outputs": [
    {
     "ename": "TypeError",
     "evalue": "object of type 'function' has no len()",
     "output_type": "error",
     "traceback": [
      "\u001b[0;31m---------------------------------------------------------------------------\u001b[0m",
      "\u001b[0;31mTypeError\u001b[0m                                 Traceback (most recent call last)",
      "Input \u001b[0;32mIn [40]\u001b[0m, in \u001b[0;36m<cell line: 16>\u001b[0;34m()\u001b[0m\n\u001b[1;32m      6\u001b[0m model \u001b[38;5;241m=\u001b[39m derrom\u001b[38;5;241m.\u001b[39mderrom(rdim\u001b[38;5;241m=\u001b[39m\u001b[38;5;241m15\u001b[39m, DE_l\u001b[38;5;241m=\u001b[39m\u001b[38;5;241m2\u001b[39m, intercept\u001b[38;5;241m=\u001b[39m\u001b[38;5;28;01mTrue\u001b[39;00m, full_hist\u001b[38;5;241m=\u001b[39m\u001b[38;5;28;01mFalse\u001b[39;00m,\n\u001b[1;32m      7\u001b[0m                     optimizer\u001b[38;5;241m=\u001b[39moptimizer,\n\u001b[1;32m      8\u001b[0m                     scaler\u001b[38;5;241m=\u001b[39mscaler,\n\u001b[1;32m      9\u001b[0m                     dim_reducer\u001b[38;5;241m=\u001b[39mdim_reducer,\n\u001b[1;32m     10\u001b[0m                     NL_transformer\u001b[38;5;241m=\u001b[39mtransformer)\n\u001b[1;32m     13\u001b[0m integrator \u001b[38;5;241m=\u001b[39m ivp_integrator(model, dt\u001b[38;5;241m=\u001b[39m\u001b[38;5;241m1.0\u001b[39m, dt_out\u001b[38;5;241m=\u001b[39m\u001b[38;5;241m5.\u001b[39m, method\u001b[38;5;241m=\u001b[39m\u001b[38;5;124m'\u001b[39m\u001b[38;5;124mEuler\u001b[39m\u001b[38;5;124m'\u001b[39m)\n\u001b[0;32m---> 16\u001b[0m scores \u001b[38;5;241m=\u001b[39m \u001b[43mderrom\u001b[49m\u001b[38;5;241;43m.\u001b[39;49m\u001b[43mutils\u001b[49m\u001b[38;5;241;43m.\u001b[39;49m\u001b[43mget_KFold_CV_scores\u001b[49m\u001b[43m(\u001b[49m\u001b[43mintegrator\u001b[49m\u001b[43m,\u001b[49m\u001b[43m \u001b[49m\u001b[43mtrajectories\u001b[49m\u001b[43m,\u001b[49m\u001b[43m \u001b[49m\u001b[43mderivs\u001b[49m\u001b[43m,\u001b[49m\u001b[43m \u001b[49m\u001b[43mfolds\u001b[49m\u001b[38;5;241;43m=\u001b[39;49m\u001b[38;5;241;43m10\u001b[39;49m\u001b[43m,\u001b[49m\u001b[43m \u001b[49m\u001b[43mseed\u001b[49m\u001b[38;5;241;43m=\u001b[39;49m\u001b[38;5;241;43m817\u001b[39;49m\u001b[43m,\u001b[49m\n\u001b[1;32m     17\u001b[0m \u001b[43m                                          \u001b[49m\u001b[43mnorms\u001b[49m\u001b[38;5;241;43m=\u001b[39;49m\u001b[43m[\u001b[49m\u001b[38;5;124;43m'\u001b[39;49m\u001b[38;5;124;43mrms\u001b[39;49m\u001b[38;5;124;43m'\u001b[39;49m\u001b[43m,\u001b[49m\u001b[38;5;124;43m'\u001b[39;49m\u001b[38;5;124;43mmax\u001b[39;49m\u001b[38;5;124;43m'\u001b[39;49m\u001b[43m]\u001b[49m\u001b[43m,\u001b[49m\n\u001b[1;32m     18\u001b[0m \u001b[43m                                          \u001b[49m\u001b[43mtrain_kwargs\u001b[49m\u001b[38;5;241;43m=\u001b[39;49m\u001b[43m{\u001b[49m\u001b[43m}\u001b[49m\u001b[43m)\u001b[49m\n\u001b[1;32m     20\u001b[0m \u001b[38;5;28mprint\u001b[39m(\u001b[38;5;124m'\u001b[39m\u001b[38;5;124mrms error: \u001b[39m\u001b[38;5;124m'\u001b[39m, \u001b[38;5;28mstr\u001b[39m(np\u001b[38;5;241m.\u001b[39mmean(scores[\u001b[38;5;241m0\u001b[39m])) \u001b[38;5;241m+\u001b[39m \u001b[38;5;124m'\u001b[39m\u001b[38;5;124m +- \u001b[39m\u001b[38;5;124m'\u001b[39m \u001b[38;5;241m+\u001b[39m \u001b[38;5;28mstr\u001b[39m(np\u001b[38;5;241m.\u001b[39mstd(scores[\u001b[38;5;241m0\u001b[39m])) )\n\u001b[1;32m     21\u001b[0m \u001b[38;5;28mprint\u001b[39m(\u001b[38;5;124m'\u001b[39m\u001b[38;5;124mmax error: \u001b[39m\u001b[38;5;124m'\u001b[39m, \u001b[38;5;28mstr\u001b[39m(np\u001b[38;5;241m.\u001b[39mmean(scores[\u001b[38;5;241m1\u001b[39m])) \u001b[38;5;241m+\u001b[39m \u001b[38;5;124m'\u001b[39m\u001b[38;5;124m +- \u001b[39m\u001b[38;5;124m'\u001b[39m \u001b[38;5;241m+\u001b[39m \u001b[38;5;28mstr\u001b[39m(np\u001b[38;5;241m.\u001b[39mstd(scores[\u001b[38;5;241m1\u001b[39m])) )\n",
      "File \u001b[0;32m~/Work/numerics/derrom/derrom/derrom/derrom_utils.py:18\u001b[0m, in \u001b[0;36mget_KFold_CV_scores\u001b[0;34m(model, trajectories, targets, folds, seed, norms, train_kwargs)\u001b[0m\n\u001b[1;32m     15\u001b[0m \u001b[38;5;28;01mdef\u001b[39;00m \u001b[38;5;21mget_KFold_CV_scores\u001b[39m(model, trajectories, targets\u001b[38;5;241m=\u001b[39m\u001b[38;5;124m'\u001b[39m\u001b[38;5;124mAR\u001b[39m\u001b[38;5;124m'\u001b[39m, folds\u001b[38;5;241m=\u001b[39m\u001b[38;5;241m5\u001b[39m, seed\u001b[38;5;241m=\u001b[39m\u001b[38;5;241m817\u001b[39m, norms \u001b[38;5;241m=\u001b[39m [\u001b[38;5;124m'\u001b[39m\u001b[38;5;124mrms\u001b[39m\u001b[38;5;124m'\u001b[39m], train_kwargs\u001b[38;5;241m=\u001b[39m{}):\n\u001b[1;32m     17\u001b[0m     \u001b[38;5;28;01mif\u001b[39;00m targets \u001b[38;5;241m!=\u001b[39m \u001b[38;5;124m'\u001b[39m\u001b[38;5;124mAR\u001b[39m\u001b[38;5;124m'\u001b[39m:\n\u001b[0;32m---> 18\u001b[0m         \u001b[38;5;28;01massert\u001b[39;00m \u001b[38;5;28mlen\u001b[39m(trajectories) \u001b[38;5;241m==\u001b[39m \u001b[38;5;28;43mlen\u001b[39;49m\u001b[43m(\u001b[49m\u001b[43mtargets\u001b[49m\u001b[43m)\u001b[49m\n\u001b[1;32m     19\u001b[0m     \u001b[38;5;28;01mif\u001b[39;00m targets \u001b[38;5;241m==\u001b[39m \u001b[38;5;124m'\u001b[39m\u001b[38;5;124mAR\u001b[39m\u001b[38;5;124m'\u001b[39m:\n\u001b[1;32m     20\u001b[0m         \u001b[38;5;28;01massert\u001b[39;00m model\u001b[38;5;241m.\u001b[39mtargets \u001b[38;5;241m==\u001b[39m \u001b[38;5;124m'\u001b[39m\u001b[38;5;124mAR\u001b[39m\u001b[38;5;124m'\u001b[39m\n",
      "\u001b[0;31mTypeError\u001b[0m: object of type 'function' has no len()"
     ]
    }
   ],
   "source": [
    "dim_reducer = derrom.dim_reducers.SVD()\n",
    "scaler = derrom.scalers.standardize_scaler(1.0)\n",
    "transformer = derrom.transformers.ELM_features(ELM_nodes=500)\n",
    "optimizer = derrom.optimizers.ridge(alpha=10.**2)\n",
    "\n",
    "model = derrom.derrom(rdim=15, DE_l=2, intercept=True, full_hist=False,\n",
    "                    optimizer=optimizer,\n",
    "                    scaler=scaler,\n",
    "                    dim_reducer=dim_reducer,\n",
    "                    NL_transformer=transformer)\n",
    "\n",
    "\n",
    "integrator = ivp_integrator(model, dt=1.0, dt_out=5., method='Euler')\n",
    "\n",
    "\n",
    "scores = derrom.utils.get_KFold_CV_scores(integrator, trajectories, derivs, folds=10, seed=817,\n",
    "                                          norms=['rms','max'],\n",
    "                                          train_kwargs={})\n",
    "\n",
    "print('rms error: ', str(np.mean(scores[0])) + ' +- ' + str(np.std(scores[0])) )\n",
    "print('max error: ', str(np.mean(scores[1])) + ' +- ' + str(np.std(scores[1])) )"
   ]
  },
  {
   "cell_type": "code",
   "execution_count": 9,
   "id": "2dee6fff",
   "metadata": {},
   "outputs": [
    {
     "name": "stdout",
     "output_type": "stream",
     "text": [
      "rms error:  0.007113225480494024 +- 0.005568399277240259\n",
      "max error:  0.026780306970008896 +- 0.02403721248280268\n"
     ]
    },
    {
     "data": {
      "image/png": "[encoded data removed]",
      "text/plain": [
       "<Figure size 432x288 with 1 Axes>"
      ]
     },
     "metadata": {
      "needs_background": "light"
     },
     "output_type": "display_data"
    },
    {
     "data": {
      "image/png": "[encoded data removed]",
      "text/plain": [
       "<Figure size 432x288 with 1 Axes>"
      ]
     },
     "metadata": {
      "needs_background": "light"
     },
     "output_type": "display_data"
    }
   ],
   "source": [
    "print('rms error: ', str(np.mean(scores[0])) + ' +- ' + str(np.std(scores[0])) )\n",
    "print('max error: ', str(np.mean(scores[1])) + ' +- ' + str(np.std(scores[1])) )\n",
    "\n",
    "plt.hist(scores[0],bins=100)\n",
    "plt.show()\n",
    "\n",
    "plt.hist(scores[1],bins=100)\n",
    "plt.show()"
   ]
  }
 ],
 "metadata": {
  "kernelspec": {
   "display_name": "Python 3 (ipykernel)",
   "language": "python",
   "name": "python3"
  },
  "language_info": {
   "codemirror_mode": {
    "name": "ipython",
    "version": 3
   },
   "file_extension": ".py",
   "mimetype": "text/x-python",
   "name": "python",
   "nbconvert_exporter": "python",
   "pygments_lexer": "ipython3",
   "version": "3.9.2"
  }
 },
 "nbformat": 4,
 "nbformat_minor": 5
}
