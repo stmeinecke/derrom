{
 "cells": [
  {
   "cell_type": "code",
   "execution_count": 1,
   "id": "9dedbc2d",
   "metadata": {},
   "outputs": [],
   "source": [
    "%load_ext autoreload\n",
    "%autoreload 2\n",
    "\n",
    "import numpy as np\n",
    "import matplotlib.pyplot as plt\n",
    "plt.rcParams['figure.figsize'] = [9, 6]\n",
    "\n",
    "import sys\n",
    "sys.path.append(\"../derrom/\")\n",
    "\n",
    "import derrom"
   ]
  },
  {
   "cell_type": "code",
   "execution_count": 2,
   "id": "90f2c10e",
   "metadata": {},
   "outputs": [],
   "source": [
    "import torch"
   ]
  },
  {
   "cell_type": "code",
   "execution_count": 3,
   "id": "f59a2381",
   "metadata": {},
   "outputs": [
    {
     "name": "stdout",
     "output_type": "stream",
     "text": [
      "100 loaded with n_kmax = 200\n",
      "example trajectory loaded with shape:  (400, 200)\n"
     ]
    }
   ],
   "source": [
    "trajectories = derrom.utils.load_trajectories(filename='../../trajectories_n_kmax=200.npz')\n",
    "\n",
    "trajectories = trajectories[::10]\n",
    "\n",
    "n_trajectories = len(trajectories)\n",
    "n_kmax = trajectories[0].shape[1]\n",
    "\n",
    "print(n_trajectories, 'loaded with n_kmax =', n_kmax)\n",
    "\n",
    "\n",
    "test_trajectory = derrom.utils.load_trajectories(filename='../../example_trajectory.npz')[0]\n",
    "print('example trajectory loaded with shape: ', test_trajectory.shape)"
   ]
  },
  {
   "cell_type": "code",
   "execution_count": 4,
   "id": "55eb2937",
   "metadata": {},
   "outputs": [
    {
     "name": "stdout",
     "output_type": "stream",
     "text": [
      "(800, 200)\n"
     ]
    }
   ],
   "source": [
    "# data_matrix = np.concatenate(trajectories)\n",
    "data_matrix = np.concatenate([t[[0,5,10,20,50,100,200,399]] for t in trajectories])\n",
    "# data_matrix = np.concatenate([t[[0,50,100,399]] for t in trajectories])\n",
    "\n",
    "print(data_matrix.shape)"
   ]
  },
  {
   "cell_type": "code",
   "execution_count": 5,
   "id": "53994585",
   "metadata": {},
   "outputs": [
    {
     "name": "stdout",
     "output_type": "stream",
     "text": [
      "torch.Size([800, 200])\n",
      "torch.float32\n"
     ]
    }
   ],
   "source": [
    "# print(data_matrix.dtype)\n",
    "\n",
    "data_tensor = torch.from_numpy(data_matrix.astype(np.float32))\n",
    "print(data_tensor.shape)\n",
    "print(data_tensor.dtype)"
   ]
  },
  {
   "cell_type": "code",
   "execution_count": 6,
   "id": "c46953a9",
   "metadata": {},
   "outputs": [
    {
     "name": "stdout",
     "output_type": "stream",
     "text": [
      "CAE(\n",
      "  (encoder): Sequential(\n",
      "    (0): Conv1d(1, 16, kernel_size=(3,), stride=(1,), padding=same, padding_mode=replicate)\n",
      "    (1): Tanh()\n",
      "    (2): MaxPool1d(kernel_size=2, stride=2, padding=0, dilation=1, ceil_mode=False)\n",
      "    (3): Conv1d(16, 32, kernel_size=(3,), stride=(1,), padding=same, padding_mode=replicate)\n",
      "    (4): Tanh()\n",
      "    (5): MaxPool1d(kernel_size=2, stride=2, padding=0, dilation=1, ceil_mode=False)\n",
      "    (6): Conv1d(32, 64, kernel_size=(3,), stride=(1,), padding=same, padding_mode=replicate)\n",
      "    (7): Tanh()\n",
      "    (8): MaxPool1d(kernel_size=2, stride=2, padding=0, dilation=1, ceil_mode=False)\n",
      "    (9): Flatten(start_dim=0, end_dim=-1)\n",
      "    (10): Linear(in_features=1600, out_features=10, bias=True)\n",
      "  )\n",
      "  (decoder): Sequential(\n",
      "    (0): Linear(in_features=10, out_features=1600, bias=True)\n",
      "    (1): Unflatten(dim=0, unflattened_size=(1, 64, 25))\n",
      "    (2): Upsample(scale_factor=2.0, mode=nearest)\n",
      "    (3): Tanh()\n",
      "    (4): ConvTranspose1d(64, 32, kernel_size=(3,), stride=(1,), padding=(1,))\n",
      "    (5): Upsample(scale_factor=2.0, mode=nearest)\n",
      "    (6): Tanh()\n",
      "    (7): ConvTranspose1d(32, 16, kernel_size=(3,), stride=(1,), padding=(1,))\n",
      "    (8): Upsample(scale_factor=2.0, mode=nearest)\n",
      "    (9): Tanh()\n",
      "    (10): ConvTranspose1d(16, 1, kernel_size=(3,), stride=(1,), padding=(1,))\n",
      "  )\n",
      ")\n"
     ]
    }
   ],
   "source": [
    "class CAE(torch.nn.Module):\n",
    "    def __init__(self):\n",
    "        super().__init__()\n",
    "        \n",
    "        self.encoder = torch.nn.Sequential(\n",
    "            torch.nn.Conv1d(1,16,3,padding='same',padding_mode='replicate'),\n",
    "            torch.nn.Tanh(),\n",
    "            torch.nn.MaxPool1d(2),\n",
    "            torch.nn.Conv1d(16,32,3,padding='same',padding_mode='replicate'),\n",
    "            torch.nn.Tanh(),\n",
    "            torch.nn.MaxPool1d(2),\n",
    "            torch.nn.Conv1d(32,64,3,padding='same',padding_mode='replicate'),\n",
    "            torch.nn.Tanh(),\n",
    "            torch.nn.MaxPool1d(2),\n",
    "            torch.nn.Flatten(0,-1),\n",
    "            torch.nn.Linear(1600,10)\n",
    "        )\n",
    "\n",
    "         \n",
    "        self.decoder = torch.nn.Sequential(\n",
    "            torch.nn.Linear(10, 1600),\n",
    "            torch.nn.Unflatten(0,(1,64,25)),\n",
    "            torch.nn.Upsample(scale_factor=2),\n",
    "            torch.nn.Tanh(),\n",
    "            torch.nn.ConvTranspose1d(64,32,3, padding=1),\n",
    "            torch.nn.Upsample(scale_factor=2),\n",
    "            torch.nn.Tanh(),\n",
    "            torch.nn.ConvTranspose1d(32,16,3, padding=1),\n",
    "            torch.nn.Upsample(scale_factor=2),\n",
    "            torch.nn.Tanh(),\n",
    "            torch.nn.ConvTranspose1d(16,1,3, padding=1)\n",
    "        )\n",
    " \n",
    "    \n",
    "    def forward(self, x):\n",
    "        x = torch.reshape(x,(1,1,-1))\n",
    "        encoded = self.encoder(x)\n",
    "        decoded = self.decoder(encoded)\n",
    "        decoded = torch.reshape(decoded,(-1,))\n",
    "        return decoded\n",
    "    \n",
    "#### Model Initialization\n",
    "model = CAE()\n",
    "print(model)"
   ]
  },
  {
   "cell_type": "code",
   "execution_count": 7,
   "id": "697bf131",
   "metadata": {},
   "outputs": [
    {
     "name": "stdout",
     "output_type": "stream",
     "text": [
      "torch.Size([1, 200])\n",
      "torch.Size([10])\n",
      "torch.Size([1, 1, 200])\n",
      "torch.Size([200])\n"
     ]
    }
   ],
   "source": [
    "input = data_tensor[0]\n",
    "# input = torch.rand(100)\n",
    "\n",
    "input = torch.reshape(input,(1,-1))\n",
    "\n",
    "print(input.shape)\n",
    "\n",
    "latent = model.encoder(input)\n",
    "print(latent.shape)\n",
    "\n",
    "recon = model.decoder(latent)\n",
    "print(recon.shape)\n",
    "\n",
    "test = model(input)\n",
    "print(test.shape)"
   ]
  },
  {
   "cell_type": "code",
   "execution_count": 8,
   "id": "18aedb9e",
   "metadata": {},
   "outputs": [],
   "source": [
    "optimizer = torch.optim.Adam(model.parameters(), lr=1e-3)"
   ]
  },
  {
   "cell_type": "code",
   "execution_count": 9,
   "id": "52d0cc12",
   "metadata": {},
   "outputs": [],
   "source": [
    "\n",
    "\n",
    "def PI_loss(output, target):\n",
    "    loss = torch.mean((output-target)**2) + 0.01*torch.mean( torch.tanh(-20.*(output+0.2)) + 1 )\n",
    "#     loss = torch.mean((output-target)**2) + torch.mean( torch.nn.functional.relu(-100.*output) )\n",
    "    return loss\n",
    "\n",
    "criterion = PI_loss\n",
    "criterion = torch.nn.MSELoss()"
   ]
  },
  {
   "cell_type": "code",
   "execution_count": 10,
   "id": "433fc542",
   "metadata": {},
   "outputs": [],
   "source": [
    "def train(net, states, NUM_EPOCHS):\n",
    "    train_loss = []\n",
    "    for epoch in range(NUM_EPOCHS):\n",
    "        running_loss = 0.0\n",
    "        for data in states:\n",
    "            optimizer.zero_grad()\n",
    "            outputs = net(data)\n",
    "            loss = criterion(outputs, data)\n",
    "            loss.backward()\n",
    "            optimizer.step()\n",
    "            running_loss += loss.item()\n",
    "        \n",
    "        loss = running_loss / len(states)\n",
    "        train_loss.append(loss)\n",
    "        print('Epoch {} of {}, Train Loss: {:.6f}'.format(\n",
    "            epoch+1, NUM_EPOCHS, loss))\n",
    "    return train_loss\n"
   ]
  },
  {
   "cell_type": "code",
   "execution_count": 11,
   "id": "70e708db",
   "metadata": {},
   "outputs": [
    {
     "name": "stdout",
     "output_type": "stream",
     "text": [
      "cpu\n"
     ]
    },
    {
     "data": {
      "text/plain": [
       "CAE(\n",
       "  (encoder): Sequential(\n",
       "    (0): Conv1d(1, 16, kernel_size=(3,), stride=(1,), padding=same, padding_mode=replicate)\n",
       "    (1): Tanh()\n",
       "    (2): MaxPool1d(kernel_size=2, stride=2, padding=0, dilation=1, ceil_mode=False)\n",
       "    (3): Conv1d(16, 32, kernel_size=(3,), stride=(1,), padding=same, padding_mode=replicate)\n",
       "    (4): Tanh()\n",
       "    (5): MaxPool1d(kernel_size=2, stride=2, padding=0, dilation=1, ceil_mode=False)\n",
       "    (6): Conv1d(32, 64, kernel_size=(3,), stride=(1,), padding=same, padding_mode=replicate)\n",
       "    (7): Tanh()\n",
       "    (8): MaxPool1d(kernel_size=2, stride=2, padding=0, dilation=1, ceil_mode=False)\n",
       "    (9): Flatten(start_dim=0, end_dim=-1)\n",
       "    (10): Linear(in_features=1600, out_features=10, bias=True)\n",
       "  )\n",
       "  (decoder): Sequential(\n",
       "    (0): Linear(in_features=10, out_features=1600, bias=True)\n",
       "    (1): Unflatten(dim=0, unflattened_size=(1, 64, 25))\n",
       "    (2): Upsample(scale_factor=2.0, mode=nearest)\n",
       "    (3): Tanh()\n",
       "    (4): ConvTranspose1d(64, 32, kernel_size=(3,), stride=(1,), padding=(1,))\n",
       "    (5): Upsample(scale_factor=2.0, mode=nearest)\n",
       "    (6): Tanh()\n",
       "    (7): ConvTranspose1d(32, 16, kernel_size=(3,), stride=(1,), padding=(1,))\n",
       "    (8): Upsample(scale_factor=2.0, mode=nearest)\n",
       "    (9): Tanh()\n",
       "    (10): ConvTranspose1d(16, 1, kernel_size=(3,), stride=(1,), padding=(1,))\n",
       "  )\n",
       ")"
      ]
     },
     "execution_count": 11,
     "metadata": {},
     "output_type": "execute_result"
    }
   ],
   "source": [
    "# get the computation device\n",
    "device = torch.device(\"cuda\" if torch.cuda.is_available() else \"cpu\")\n",
    "print(device)\n",
    "\n",
    "# load the neural network onto the device\n",
    "model.to(device)"
   ]
  },
  {
   "cell_type": "code",
   "execution_count": 12,
   "id": "a9ab2f17",
   "metadata": {
    "scrolled": true
   },
   "outputs": [
    {
     "name": "stdout",
     "output_type": "stream",
     "text": [
      "Epoch 1 of 100, Train Loss: 0.012929\n",
      "Epoch 2 of 100, Train Loss: 0.003871\n",
      "Epoch 3 of 100, Train Loss: 0.002832\n",
      "Epoch 4 of 100, Train Loss: 0.002337\n",
      "Epoch 5 of 100, Train Loss: 0.001864\n",
      "Epoch 6 of 100, Train Loss: 0.001620\n",
      "Epoch 7 of 100, Train Loss: 0.001561\n",
      "Epoch 8 of 100, Train Loss: 0.001362\n",
      "Epoch 9 of 100, Train Loss: 0.001079\n",
      "Epoch 10 of 100, Train Loss: 0.001342\n",
      "Epoch 11 of 100, Train Loss: 0.000950\n",
      "Epoch 12 of 100, Train Loss: 0.001254\n",
      "Epoch 13 of 100, Train Loss: 0.000836\n",
      "Epoch 14 of 100, Train Loss: 0.000788\n",
      "Epoch 15 of 100, Train Loss: 0.000806\n",
      "Epoch 16 of 100, Train Loss: 0.000824\n",
      "Epoch 17 of 100, Train Loss: 0.000822\n",
      "Epoch 18 of 100, Train Loss: 0.000769\n",
      "Epoch 19 of 100, Train Loss: 0.000785\n",
      "Epoch 20 of 100, Train Loss: 0.000763\n",
      "Epoch 21 of 100, Train Loss: 0.000679\n",
      "Epoch 22 of 100, Train Loss: 0.000790\n",
      "Epoch 23 of 100, Train Loss: 0.000749\n",
      "Epoch 24 of 100, Train Loss: 0.000671\n",
      "Epoch 25 of 100, Train Loss: 0.000795\n",
      "Epoch 26 of 100, Train Loss: 0.000700\n",
      "Epoch 27 of 100, Train Loss: 0.000576\n",
      "Epoch 28 of 100, Train Loss: 0.000738\n",
      "Epoch 29 of 100, Train Loss: 0.000704\n",
      "Epoch 30 of 100, Train Loss: 0.000527\n",
      "Epoch 31 of 100, Train Loss: 0.000618\n",
      "Epoch 32 of 100, Train Loss: 0.000541\n",
      "Epoch 33 of 100, Train Loss: 0.000664\n",
      "Epoch 34 of 100, Train Loss: 0.000536\n",
      "Epoch 35 of 100, Train Loss: 0.000482\n",
      "Epoch 36 of 100, Train Loss: 0.000519\n",
      "Epoch 37 of 100, Train Loss: 0.000692\n",
      "Epoch 38 of 100, Train Loss: 0.000626\n",
      "Epoch 39 of 100, Train Loss: 0.000542\n",
      "Epoch 40 of 100, Train Loss: 0.000598\n",
      "Epoch 41 of 100, Train Loss: 0.000453\n",
      "Epoch 42 of 100, Train Loss: 0.000408\n",
      "Epoch 43 of 100, Train Loss: 0.000522\n",
      "Epoch 44 of 100, Train Loss: 0.000489\n",
      "Epoch 45 of 100, Train Loss: 0.000436\n",
      "Epoch 46 of 100, Train Loss: 0.000390\n",
      "Epoch 47 of 100, Train Loss: 0.000578\n",
      "Epoch 48 of 100, Train Loss: 0.000371\n",
      "Epoch 49 of 100, Train Loss: 0.000404\n",
      "Epoch 50 of 100, Train Loss: 0.000526\n",
      "Epoch 51 of 100, Train Loss: 0.000475\n",
      "Epoch 52 of 100, Train Loss: 0.000384\n",
      "Epoch 53 of 100, Train Loss: 0.000731\n",
      "Epoch 54 of 100, Train Loss: 0.000375\n",
      "Epoch 55 of 100, Train Loss: 0.000325\n",
      "Epoch 56 of 100, Train Loss: 0.000360\n",
      "Epoch 57 of 100, Train Loss: 0.000503\n",
      "Epoch 58 of 100, Train Loss: 0.000387\n",
      "Epoch 59 of 100, Train Loss: 0.000391\n",
      "Epoch 60 of 100, Train Loss: 0.000422\n",
      "Epoch 61 of 100, Train Loss: 0.000334\n",
      "Epoch 62 of 100, Train Loss: 0.000380\n",
      "Epoch 63 of 100, Train Loss: 0.000391\n",
      "Epoch 64 of 100, Train Loss: 0.000379\n",
      "Epoch 65 of 100, Train Loss: 0.000342\n",
      "Epoch 66 of 100, Train Loss: 0.000320\n",
      "Epoch 67 of 100, Train Loss: 0.000380\n",
      "Epoch 68 of 100, Train Loss: 0.000309\n",
      "Epoch 69 of 100, Train Loss: 0.000456\n",
      "Epoch 70 of 100, Train Loss: 0.000347\n",
      "Epoch 71 of 100, Train Loss: 0.000337\n",
      "Epoch 72 of 100, Train Loss: 0.000344\n",
      "Epoch 73 of 100, Train Loss: 0.000342\n",
      "Epoch 74 of 100, Train Loss: 0.000405\n",
      "Epoch 75 of 100, Train Loss: 0.000294\n",
      "Epoch 76 of 100, Train Loss: 0.000378\n",
      "Epoch 77 of 100, Train Loss: 0.000281\n",
      "Epoch 78 of 100, Train Loss: 0.000365\n",
      "Epoch 79 of 100, Train Loss: 0.000305\n",
      "Epoch 80 of 100, Train Loss: 0.000374\n",
      "Epoch 81 of 100, Train Loss: 0.000300\n",
      "Epoch 82 of 100, Train Loss: 0.000305\n",
      "Epoch 83 of 100, Train Loss: 0.000307\n",
      "Epoch 84 of 100, Train Loss: 0.000314\n",
      "Epoch 85 of 100, Train Loss: 0.000295\n",
      "Epoch 86 of 100, Train Loss: 0.000393\n",
      "Epoch 87 of 100, Train Loss: 0.000334\n",
      "Epoch 88 of 100, Train Loss: 0.000385\n",
      "Epoch 89 of 100, Train Loss: 0.000240\n",
      "Epoch 90 of 100, Train Loss: 0.000310\n",
      "Epoch 91 of 100, Train Loss: 0.000290\n",
      "Epoch 92 of 100, Train Loss: 0.000427\n",
      "Epoch 93 of 100, Train Loss: 0.000287\n",
      "Epoch 94 of 100, Train Loss: 0.000274\n",
      "Epoch 95 of 100, Train Loss: 0.000413\n",
      "Epoch 96 of 100, Train Loss: 0.000270\n",
      "Epoch 97 of 100, Train Loss: 0.000248\n",
      "Epoch 98 of 100, Train Loss: 0.000248\n",
      "Epoch 99 of 100, Train Loss: 0.000406\n",
      "Epoch 100 of 100, Train Loss: 0.000272\n"
     ]
    }
   ],
   "source": [
    "# train the network\n",
    "train_loss = train(model, data_tensor, 100)"
   ]
  },
  {
   "cell_type": "code",
   "execution_count": 13,
   "id": "ff255f03",
   "metadata": {},
   "outputs": [
    {
     "data": {
      "image/png": "[encoded data removed]",
      "text/plain": [
       "<Figure size 432x288 with 1 Axes>"
      ]
     },
     "metadata": {
      "needs_background": "light"
     },
     "output_type": "display_data"
    }
   ],
   "source": [
    "plt.plot(train_loss)\n",
    "plt.show()"
   ]
  },
  {
   "cell_type": "code",
   "execution_count": 14,
   "id": "9687dbd2",
   "metadata": {},
   "outputs": [
    {
     "data": {
      "image/png": "[encoded data removed]",
      "text/plain": [
       "<Figure size 432x288 with 1 Axes>"
      ]
     },
     "metadata": {
      "needs_background": "light"
     },
     "output_type": "display_data"
    }
   ],
   "source": [
    "test = data_tensor[324]\n",
    "\n",
    "recon = model(test).detach().numpy()\n",
    "\n",
    "plt.grid()\n",
    "plt.plot(test, marker='o')\n",
    "plt.plot(recon, marker = 's')\n",
    "\n",
    "plt.show()"
   ]
  },
  {
   "cell_type": "code",
   "execution_count": 15,
   "id": "959dd670",
   "metadata": {},
   "outputs": [],
   "source": [
    "torch.save(model, '../../torch_model_test')"
   ]
  },
  {
   "cell_type": "code",
   "execution_count": 16,
   "id": "53a28cd8",
   "metadata": {},
   "outputs": [
    {
     "name": "stdout",
     "output_type": "stream",
     "text": [
      "torch.Size([10])\n",
      "tensor([1., 0., 0., 0., 0., 0., 0., 0., 0., 0.])\n",
      "(200,)\n"
     ]
    },
    {
     "data": {
      "image/png": "[encoded data removed]",
      "text/plain": [
       "<Figure size 432x288 with 1 Axes>"
      ]
     },
     "metadata": {
      "needs_background": "light"
     },
     "output_type": "display_data"
    }
   ],
   "source": [
    "latent_vec = torch.zeros((10), dtype=torch.float32)\n",
    "\n",
    "latent_vec[0] = 1\n",
    "print(latent_vec.shape)\n",
    "print(latent_vec)\n",
    "\n",
    "data = model.decoder(latent_vec).detach().numpy().reshape(-1)\n",
    "\n",
    "print(data.shape)\n",
    "\n",
    "plt.plot(data)\n",
    "plt.show()\n"
   ]
  },
  {
   "cell_type": "code",
   "execution_count": 19,
   "id": "c1748a6d",
   "metadata": {},
   "outputs": [],
   "source": [
    "class AEDR(derrom.dim_reducers.base_dim_reducer):\n",
    "    def __init__(self, AEmodel=None):\n",
    "        self.AEmodel = AEmodel\n",
    "    \n",
    "    def train(self, data_matrix, rdim):\n",
    "        pass\n",
    "    \n",
    "    def reduce(self, data_matrix, rdim):\n",
    "        data_tensor = torch.from_numpy(data_matrix.astype(np.float32))\n",
    "        \n",
    "        out = np.zeros((data_tensor.shape[0],10))\n",
    "        for k in range(data_tensor.shape[0]):\n",
    "            out[k] = self.AEmodel.encoder(data_tensor[k].reshape(1,-1)).detach().numpy()\n",
    "        return out\n",
    "    \n",
    "    def reconstruct(self, reduced_data_matrix):\n",
    "        data_tensor = torch.from_numpy(reduced_data_matrix.astype(np.float32))\n",
    "        \n",
    "        out = np.zeros((data_tensor.shape[0],200))\n",
    "        for k in range(data_tensor.shape[0]):\n",
    "            out[k] = self.AEmodel.decoder(data_tensor[k]).detach().numpy().reshape(-1)\n",
    "        return out\n",
    "\n",
    "        "
   ]
  },
  {
   "cell_type": "code",
   "execution_count": 20,
   "id": "22bf42be",
   "metadata": {},
   "outputs": [],
   "source": [
    "dim_reducer = AEDR(model)"
   ]
  },
  {
   "cell_type": "code",
   "execution_count": 22,
   "id": "41620bf8",
   "metadata": {},
   "outputs": [
    {
     "data": {
      "image/png": "[encoded data removed]",
      "text/plain": [
       "<Figure size 432x288 with 2 Axes>"
      ]
     },
     "metadata": {
      "needs_background": "light"
     },
     "output_type": "display_data"
    },
    {
     "data": {
      "image/png": "[encoded data removed]",
      "text/plain": [
       "<Figure size 432x288 with 2 Axes>"
      ]
     },
     "metadata": {
      "needs_background": "light"
     },
     "output_type": "display_data"
    },
    {
     "data": {
      "image/png": "[encoded data removed]",
      "text/plain": [
       "<Figure size 432x288 with 2 Axes>"
      ]
     },
     "metadata": {
      "needs_background": "light"
     },
     "output_type": "display_data"
    }
   ],
   "source": [
    "test = trajectories[10]\n",
    "\n",
    "red = dim_reducer.reduce(test, rdim=10)\n",
    "\n",
    "recon = dim_reducer.reconstruct(red)\n",
    "\n",
    "plt.imshow(red, aspect='auto', interpolation='none', origin='lower')\n",
    "plt.colorbar()\n",
    "plt.show()\n",
    "\n",
    "derrom.utils.plot_trajectory(recon)\n",
    "\n",
    "derrom.utils.plot_difference(truth=test, test=recon)"
   ]
  }
 ],
 "metadata": {
  "kernelspec": {
   "display_name": "Python 3 (ipykernel)",
   "language": "python",
   "name": "python3"
  },
  "language_info": {
   "codemirror_mode": {
    "name": "ipython",
    "version": 3
   },
   "file_extension": ".py",
   "mimetype": "text/x-python",
   "name": "python",
   "nbconvert_exporter": "python",
   "pygments_lexer": "ipython3",
   "version": "3.9.2"
  }
 },
 "nbformat": 4,
 "nbformat_minor": 5
}
