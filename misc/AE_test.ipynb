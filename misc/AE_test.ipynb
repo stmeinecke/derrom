{
 "cells": [
  {
   "cell_type": "code",
   "execution_count": 7,
   "id": "9dedbc2d",
   "metadata": {},
   "outputs": [
    {
     "name": "stdout",
     "output_type": "stream",
     "text": [
      "The autoreload extension is already loaded. To reload it, use:\n",
      "  %reload_ext autoreload\n"
     ]
    }
   ],
   "source": [
    "%load_ext autoreload\n",
    "%autoreload 2\n",
    "\n",
    "import numpy as np\n",
    "import matplotlib.pyplot as plt\n",
    "plt.rcParams['figure.figsize'] = [9, 6]\n",
    "\n",
    "import sys\n",
    "sys.path.append(\"incl/\")\n",
    "\n",
    "import narrom"
   ]
  },
  {
   "cell_type": "code",
   "execution_count": 8,
   "id": "90f2c10e",
   "metadata": {},
   "outputs": [],
   "source": [
    "import torch"
   ]
  },
  {
   "cell_type": "code",
   "execution_count": 2,
   "id": "f59a2381",
   "metadata": {},
   "outputs": [
    {
     "name": "stdout",
     "output_type": "stream",
     "text": [
      "1000 loaded with n_kmax = 80\n"
     ]
    }
   ],
   "source": [
    "# trajectories = narrom.utils.load_trajectories(filename='/home/agluedge/Preprints/ELPH/runs/runs_n_kmax=200.npz')\n",
    "trajectories = narrom.utils.load_trajectories(filename='../runs_n_kmax=80.npz')\n",
    "\n",
    "trajectories = trajectories[::]\n",
    "\n",
    "for k in range(len(trajectories)):\n",
    "    trajectories[k] = trajectories[k].T\n",
    "\n",
    "n_trajectories = len(trajectories)\n",
    "n_kmax = trajectories[0].shape[1]\n",
    "\n",
    "print(n_trajectories, 'loaded with n_kmax =', n_kmax)"
   ]
  },
  {
   "cell_type": "code",
   "execution_count": 5,
   "id": "55eb2937",
   "metadata": {},
   "outputs": [
    {
     "name": "stdout",
     "output_type": "stream",
     "text": [
      "(4000, 80)\n"
     ]
    }
   ],
   "source": [
    "# data_matrix = np.concatenate(trajectories)\n",
    "# data_matrix = np.concatenate([t[[0,5,10,20,50,100,200,399]] for t in trajectories])\n",
    "data_matrix = np.concatenate([t[[0,50,100,399]] for t in trajectories])\n",
    "\n",
    "print(data_matrix.shape)"
   ]
  },
  {
   "cell_type": "code",
   "execution_count": 9,
   "id": "53994585",
   "metadata": {},
   "outputs": [
    {
     "name": "stdout",
     "output_type": "stream",
     "text": [
      "torch.Size([4000, 80])\n",
      "torch.float32\n"
     ]
    }
   ],
   "source": [
    "# print(data_matrix.dtype)\n",
    "\n",
    "data_tensor = torch.from_numpy(data_matrix.astype(np.float32))\n",
    "print(data_tensor.shape)\n",
    "print(data_tensor.dtype)"
   ]
  },
  {
   "cell_type": "code",
   "execution_count": 55,
   "id": "b9cbb9d5",
   "metadata": {},
   "outputs": [],
   "source": [
    "class AE(torch.nn.Module):\n",
    "    def __init__(self):\n",
    "        super().__init__()\n",
    "         \n",
    "        self.encoder = torch.nn.Sequential(\n",
    "            torch.nn.Linear(200, 40),\n",
    "            torch.nn.Tanh(),\n",
    "            torch.nn.Linear(40, 20),\n",
    "            torch.nn.Tanh(),\n",
    "#             torch.nn.Linear(40, 20),\n",
    "#             torch.nn.Tanh(),\n",
    "            torch.nn.Linear(20, 10),\n",
    "        )\n",
    "         \n",
    "        self.decoder = torch.nn.Sequential(\n",
    "            torch.nn.Linear(10, 20),\n",
    "#             torch.nn.Tanh(),\n",
    "#             torch.nn.Linear(20, 40),\n",
    "            torch.nn.Tanh(),\n",
    "            torch.nn.Linear(20, 40),\n",
    "            torch.nn.Tanh(),\n",
    "            torch.nn.Linear(40, 200),\n",
    "        )\n",
    " \n",
    "    def forward(self, x):\n",
    "        encoded = self.encoder(x)\n",
    "        decoded = self.decoder(encoded)\n",
    "        return decoded"
   ]
  },
  {
   "cell_type": "code",
   "execution_count": 56,
   "id": "c7ccf4ca",
   "metadata": {},
   "outputs": [
    {
     "name": "stdout",
     "output_type": "stream",
     "text": [
      "AE(\n",
      "  (encoder): Sequential(\n",
      "    (0): Linear(in_features=200, out_features=40, bias=True)\n",
      "    (1): Tanh()\n",
      "    (2): Linear(in_features=40, out_features=20, bias=True)\n",
      "    (3): Tanh()\n",
      "    (4): Linear(in_features=20, out_features=10, bias=True)\n",
      "  )\n",
      "  (decoder): Sequential(\n",
      "    (0): Linear(in_features=10, out_features=20, bias=True)\n",
      "    (1): Tanh()\n",
      "    (2): Linear(in_features=20, out_features=40, bias=True)\n",
      "    (3): Tanh()\n",
      "    (4): Linear(in_features=40, out_features=200, bias=True)\n",
      "  )\n",
      ")\n"
     ]
    }
   ],
   "source": [
    "#### Model Initialization\n",
    "model = AE()\n",
    "print(model)"
   ]
  },
  {
   "cell_type": "code",
   "execution_count": 57,
   "id": "18aedb9e",
   "metadata": {},
   "outputs": [],
   "source": [
    "optimizer = torch.optim.Adam(model.parameters(), lr=1e-3)"
   ]
  },
  {
   "cell_type": "code",
   "execution_count": 58,
   "id": "52d0cc12",
   "metadata": {},
   "outputs": [],
   "source": [
    "\n",
    "\n",
    "def PI_loss(output, target):\n",
    "    loss = torch.mean((output-target)**2) + 0.01*torch.mean( torch.tanh(-20.*(output+0.2)) + 1 )\n",
    "#     loss = torch.mean((output-target)**2) + torch.mean( torch.nn.functional.relu(-100.*output) )\n",
    "    return loss\n",
    "\n",
    "criterion = PI_loss\n",
    "# criterion = torch.nn.MSELoss()"
   ]
  },
  {
   "cell_type": "code",
   "execution_count": 59,
   "id": "433fc542",
   "metadata": {},
   "outputs": [],
   "source": [
    "def train(net, states, NUM_EPOCHS):\n",
    "    train_loss = []\n",
    "    for epoch in range(NUM_EPOCHS):\n",
    "        running_loss = 0.0\n",
    "        for data in states:\n",
    "            optimizer.zero_grad()\n",
    "            outputs = net(data)\n",
    "            loss = criterion(outputs, data)\n",
    "            loss.backward()\n",
    "            optimizer.step()\n",
    "            running_loss += loss.item()\n",
    "        \n",
    "        loss = running_loss / len(states)\n",
    "        train_loss.append(loss)\n",
    "        print('Epoch {} of {}, Train Loss: {:.6f}'.format(\n",
    "            epoch+1, NUM_EPOCHS, loss))\n",
    "    return train_loss\n"
   ]
  },
  {
   "cell_type": "code",
   "execution_count": null,
   "id": "70e708db",
   "metadata": {},
   "outputs": [],
   "source": [
    "# get the computation device\n",
    "device = torch.device(\"cuda\" if torch.cuda.is_available() else \"cpu\")\n",
    "print(device)\n",
    "\n",
    "# load the neural network onto the device\n",
    "model.to(device)"
   ]
  },
  {
   "cell_type": "code",
   "execution_count": 61,
   "id": "a9ab2f17",
   "metadata": {
    "scrolled": true
   },
   "outputs": [
    {
     "name": "stdout",
     "output_type": "stream",
     "text": [
      "Epoch 1 of 100, Train Loss: 0.005095\n",
      "Epoch 2 of 100, Train Loss: 0.002863\n",
      "Epoch 3 of 100, Train Loss: 0.002210\n",
      "Epoch 4 of 100, Train Loss: 0.001874\n",
      "Epoch 5 of 100, Train Loss: 0.001709\n",
      "Epoch 6 of 100, Train Loss: 0.001510\n",
      "Epoch 7 of 100, Train Loss: 0.001420\n",
      "Epoch 8 of 100, Train Loss: 0.001341\n",
      "Epoch 9 of 100, Train Loss: 0.001349\n",
      "Epoch 10 of 100, Train Loss: 0.001315\n",
      "Epoch 11 of 100, Train Loss: 0.001288\n",
      "Epoch 12 of 100, Train Loss: 0.001194\n",
      "Epoch 13 of 100, Train Loss: 0.001167\n",
      "Epoch 14 of 100, Train Loss: 0.001123\n",
      "Epoch 15 of 100, Train Loss: 0.001090\n",
      "Epoch 16 of 100, Train Loss: 0.001082\n",
      "Epoch 17 of 100, Train Loss: 0.001075\n",
      "Epoch 18 of 100, Train Loss: 0.001084\n",
      "Epoch 19 of 100, Train Loss: 0.001062\n",
      "Epoch 20 of 100, Train Loss: 0.001040\n",
      "Epoch 21 of 100, Train Loss: 0.001031\n",
      "Epoch 22 of 100, Train Loss: 0.001009\n",
      "Epoch 23 of 100, Train Loss: 0.001053\n",
      "Epoch 24 of 100, Train Loss: 0.001029\n",
      "Epoch 25 of 100, Train Loss: 0.001031\n",
      "Epoch 26 of 100, Train Loss: 0.001008\n",
      "Epoch 27 of 100, Train Loss: 0.001027\n",
      "Epoch 28 of 100, Train Loss: 0.000978\n",
      "Epoch 29 of 100, Train Loss: 0.001021\n",
      "Epoch 30 of 100, Train Loss: 0.001017\n",
      "Epoch 31 of 100, Train Loss: 0.000983\n",
      "Epoch 32 of 100, Train Loss: 0.000972\n",
      "Epoch 33 of 100, Train Loss: 0.001010\n",
      "Epoch 34 of 100, Train Loss: 0.000999\n",
      "Epoch 35 of 100, Train Loss: 0.000991\n",
      "Epoch 36 of 100, Train Loss: 0.000989\n",
      "Epoch 37 of 100, Train Loss: 0.000977\n",
      "Epoch 38 of 100, Train Loss: 0.000984\n",
      "Epoch 39 of 100, Train Loss: 0.000988\n",
      "Epoch 40 of 100, Train Loss: 0.001005\n",
      "Epoch 41 of 100, Train Loss: 0.000932\n",
      "Epoch 42 of 100, Train Loss: 0.000991\n",
      "Epoch 43 of 100, Train Loss: 0.001015\n",
      "Epoch 44 of 100, Train Loss: 0.000992\n",
      "Epoch 45 of 100, Train Loss: 0.000993\n",
      "Epoch 46 of 100, Train Loss: 0.000988\n",
      "Epoch 47 of 100, Train Loss: 0.000967\n",
      "Epoch 48 of 100, Train Loss: 0.000965\n",
      "Epoch 49 of 100, Train Loss: 0.000961\n",
      "Epoch 50 of 100, Train Loss: 0.001004\n",
      "Epoch 51 of 100, Train Loss: 0.000968\n",
      "Epoch 52 of 100, Train Loss: 0.000972\n",
      "Epoch 53 of 100, Train Loss: 0.000967\n",
      "Epoch 54 of 100, Train Loss: 0.000977\n",
      "Epoch 55 of 100, Train Loss: 0.000975\n",
      "Epoch 56 of 100, Train Loss: 0.000938\n",
      "Epoch 57 of 100, Train Loss: 0.000970\n",
      "Epoch 58 of 100, Train Loss: 0.000940\n",
      "Epoch 59 of 100, Train Loss: 0.000962\n",
      "Epoch 60 of 100, Train Loss: 0.000957\n",
      "Epoch 61 of 100, Train Loss: 0.000949\n",
      "Epoch 62 of 100, Train Loss: 0.000945\n",
      "Epoch 63 of 100, Train Loss: 0.000979\n",
      "Epoch 64 of 100, Train Loss: 0.000935\n",
      "Epoch 65 of 100, Train Loss: 0.000921\n",
      "Epoch 66 of 100, Train Loss: 0.000950\n",
      "Epoch 67 of 100, Train Loss: 0.000959\n",
      "Epoch 68 of 100, Train Loss: 0.000936\n",
      "Epoch 69 of 100, Train Loss: 0.000939\n",
      "Epoch 70 of 100, Train Loss: 0.000955\n",
      "Epoch 71 of 100, Train Loss: 0.000957\n",
      "Epoch 72 of 100, Train Loss: 0.000940\n",
      "Epoch 73 of 100, Train Loss: 0.000931\n",
      "Epoch 74 of 100, Train Loss: 0.000943\n",
      "Epoch 75 of 100, Train Loss: 0.000959\n",
      "Epoch 76 of 100, Train Loss: 0.000930\n",
      "Epoch 77 of 100, Train Loss: 0.000930\n",
      "Epoch 78 of 100, Train Loss: 0.000930\n",
      "Epoch 79 of 100, Train Loss: 0.000949\n",
      "Epoch 80 of 100, Train Loss: 0.000929\n",
      "Epoch 81 of 100, Train Loss: 0.000939\n",
      "Epoch 82 of 100, Train Loss: 0.000933\n",
      "Epoch 83 of 100, Train Loss: 0.000916\n",
      "Epoch 84 of 100, Train Loss: 0.000931\n",
      "Epoch 85 of 100, Train Loss: 0.000948\n",
      "Epoch 86 of 100, Train Loss: 0.000945\n",
      "Epoch 87 of 100, Train Loss: 0.000943\n",
      "Epoch 88 of 100, Train Loss: 0.000945\n",
      "Epoch 89 of 100, Train Loss: 0.000967\n",
      "Epoch 90 of 100, Train Loss: 0.000948\n",
      "Epoch 91 of 100, Train Loss: 0.000950\n",
      "Epoch 92 of 100, Train Loss: 0.000936\n",
      "Epoch 93 of 100, Train Loss: 0.000931\n",
      "Epoch 94 of 100, Train Loss: 0.000929\n",
      "Epoch 95 of 100, Train Loss: 0.000930\n",
      "Epoch 96 of 100, Train Loss: 0.000910\n",
      "Epoch 97 of 100, Train Loss: 0.000960\n",
      "Epoch 98 of 100, Train Loss: 0.000928\n",
      "Epoch 99 of 100, Train Loss: 0.000964\n",
      "Epoch 100 of 100, Train Loss: 0.000924\n"
     ]
    }
   ],
   "source": [
    "# train the network\n",
    "train_loss = train(model, data_tensor, 100)"
   ]
  },
  {
   "cell_type": "code",
   "execution_count": 62,
   "id": "ff255f03",
   "metadata": {},
   "outputs": [
    {
     "data": {
      "image/png": "[encoded data removed]",
      "text/plain": [
       "<Figure size 432x288 with 1 Axes>"
      ]
     },
     "metadata": {
      "needs_background": "light"
     },
     "output_type": "display_data"
    }
   ],
   "source": [
    "plt.plot(train_loss)\n",
    "plt.show()"
   ]
  },
  {
   "cell_type": "code",
   "execution_count": 64,
   "id": "9687dbd2",
   "metadata": {},
   "outputs": [
    {
     "data": {
      "image/png": "[encoded data removed]",
      "text/plain": [
       "<Figure size 432x288 with 1 Axes>"
      ]
     },
     "metadata": {
      "needs_background": "light"
     },
     "output_type": "display_data"
    }
   ],
   "source": [
    "test = data_tensor[23]\n",
    "\n",
    "recon = model(test).detach().numpy()\n",
    "\n",
    "plt.plot(test, marker='o')\n",
    "plt.plot(recon, marker = 's')\n",
    "\n",
    "plt.show()"
   ]
  },
  {
   "cell_type": "code",
   "execution_count": 15,
   "id": "959dd670",
   "metadata": {},
   "outputs": [],
   "source": [
    "torch.save(model, '../torch_model_test')"
   ]
  },
  {
   "cell_type": "code",
   "execution_count": 65,
   "id": "53a28cd8",
   "metadata": {},
   "outputs": [
    {
     "name": "stdout",
     "output_type": "stream",
     "text": [
      "tensor([1., 0., 0., 0., 0., 0., 0., 0., 0., 0.])\n"
     ]
    },
    {
     "data": {
      "image/png": "[encoded data removed]",
      "text/plain": [
       "<Figure size 432x288 with 1 Axes>"
      ]
     },
     "metadata": {
      "needs_background": "light"
     },
     "output_type": "display_data"
    }
   ],
   "source": [
    "latent_vec = torch.zeros(10, dtype=torch.float32)\n",
    "\n",
    "latent_vec[0] = 1\n",
    "\n",
    "print(latent_vec)\n",
    "\n",
    "data = model.decoder(latent_vec).detach().numpy()\n",
    "\n",
    "plt.plot(data)\n",
    "plt.show()\n"
   ]
  },
  {
   "cell_type": "code",
   "execution_count": 66,
   "id": "c1748a6d",
   "metadata": {},
   "outputs": [],
   "source": [
    "class AEDR(narrom.dim_reducer.base_dim_reducer):\n",
    "    def __init__(self, AEmodel=None):\n",
    "        self.AEmodel = AEmodel\n",
    "    \n",
    "    def train(self, data_matrix, rdim):\n",
    "        pass\n",
    "    \n",
    "    def reduce(self, data_matrix, rdim):\n",
    "        data_tensor = torch.from_numpy(data_matrix.astype(np.float32))\n",
    "        \n",
    "        out = np.zeros((data_tensor.shape[0],10))\n",
    "        for k in range(data_tensor.shape[0]):\n",
    "            out[k] = self.AEmodel.encoder(data_tensor[k]).detach().numpy()\n",
    "        return out\n",
    "    \n",
    "    def reconstruct(self, reduced_data_matrix):\n",
    "        data_tensor = torch.from_numpy(reduced_data_matrix.astype(np.float32))\n",
    "        \n",
    "        out = np.zeros((data_tensor.shape[0],200))\n",
    "        for k in range(data_tensor.shape[0]):\n",
    "            out[k] = self.AEmodel.decoder(data_tensor[k]).detach().numpy()\n",
    "        return out\n",
    "\n",
    "        "
   ]
  },
  {
   "cell_type": "code",
   "execution_count": 67,
   "id": "22bf42be",
   "metadata": {},
   "outputs": [],
   "source": [
    "dim_reducer = AEDR(model)"
   ]
  },
  {
   "cell_type": "code",
   "execution_count": 68,
   "id": "41620bf8",
   "metadata": {},
   "outputs": [
    {
     "data": {
      "image/png": "[encoded data removed]",
      "text/plain": [
       "<Figure size 432x288 with 2 Axes>"
      ]
     },
     "metadata": {
      "needs_background": "light"
     },
     "output_type": "display_data"
    },
    {
     "data": {
      "image/png": "[encoded data removed]",
      "text/plain": [
       "<Figure size 432x288 with 2 Axes>"
      ]
     },
     "metadata": {
      "needs_background": "light"
     },
     "output_type": "display_data"
    },
    {
     "data": {
      "image/png": "[encoded data removed]",
      "text/plain": [
       "<Figure size 432x288 with 2 Axes>"
      ]
     },
     "metadata": {
      "needs_background": "light"
     },
     "output_type": "display_data"
    }
   ],
   "source": [
    "test = trajectories[33]\n",
    "\n",
    "red = dim_reducer.reduce(test, rdim=10)\n",
    "\n",
    "recon = dim_reducer.reconstruct(red)\n",
    "\n",
    "plt.imshow(red, aspect='auto', interpolation='none', origin='lower')\n",
    "plt.colorbar()\n",
    "plt.show()\n",
    "\n",
    "narrom.utils.plot_trajectory(recon)\n",
    "\n",
    "narrom.utils.plot_difference(truth=test, test=recon)"
   ]
  }
 ],
 "metadata": {
  "kernelspec": {
   "display_name": "Python 3 (ipykernel)",
   "language": "python",
   "name": "python3"
  },
  "language_info": {
   "codemirror_mode": {
    "name": "ipython",
    "version": 3
   },
   "file_extension": ".py",
   "mimetype": "text/x-python",
   "name": "python",
   "nbconvert_exporter": "python",
   "pygments_lexer": "ipython3",
   "version": "3.9.9"
  }
 },
 "nbformat": 4,
 "nbformat_minor": 5
}
