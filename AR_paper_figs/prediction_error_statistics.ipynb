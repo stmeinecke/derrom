{
 "cells": [
  {
   "cell_type": "code",
   "execution_count": 2,
   "id": "d5d14e09",
   "metadata": {},
   "outputs": [
    {
     "name": "stdout",
     "output_type": "stream",
     "text": [
      "The autoreload extension is already loaded. To reload it, use:\n",
      "  %reload_ext autoreload\n"
     ]
    }
   ],
   "source": [
    "%load_ext autoreload\n",
    "%autoreload 2\n",
    "\n",
    "import numpy as np\n",
    "import matplotlib.pyplot as plt\n",
    "plt.rcParams['figure.figsize'] = [9, 6]\n",
    "\n",
    "import sys\n",
    "\n",
    "sys.path.append(\"../derrom/\")\n",
    "\n",
    "import derrom"
   ]
  },
  {
   "cell_type": "code",
   "execution_count": 3,
   "id": "bd17f29d",
   "metadata": {},
   "outputs": [
    {
     "name": "stdout",
     "output_type": "stream",
     "text": [
      "1000 loaded with n_kmax = 200\n",
      "example trajectory loaded with shape:  (400, 200)\n"
     ]
    }
   ],
   "source": [
    "trajectories = derrom.utils.load_trajectories(filename='../../trajectories_n_kmax=200.npz')\n",
    "\n",
    "n_trajectories = len(trajectories)\n",
    "n_kmax = trajectories[0].shape[1]\n",
    "\n",
    "print(n_trajectories, 'loaded with n_kmax =', n_kmax)\n",
    "\n",
    "test_trajectory = derrom.utils.load_trajectories(filename='../../example_trajectory.npz')[0]\n",
    "print('example trajectory loaded with shape: ', test_trajectory.shape)"
   ]
  },
  {
   "cell_type": "code",
   "execution_count": 4,
   "id": "c573dad3",
   "metadata": {},
   "outputs": [
    {
     "name": "stdout",
     "output_type": "stream",
     "text": [
      "rms error:  0.006368410212943511 +- 0.003989126710259439\n",
      "max error:  0.031430886060373496 +- 0.022664622894639778\n"
     ]
    }
   ],
   "source": [
    "dim_reducer = derrom.dim_reducers.SVD()\n",
    "scaler = derrom.scalers.normalize_scaler(0.1)\n",
    "transformer = derrom.transformers.polynomial_features(order=2)\n",
    "optimizer = derrom.optimizers.ridge(alpha=10.**-3.5)\n",
    "\n",
    "model = derrom.derrom(trajectories, targets='AR', DE_l=2, intercept=True, full_hist=False, \n",
    "                      optimizer=optimizer,\n",
    "                      scaler=scaler,\n",
    "                      dim_reducer=dim_reducer,\n",
    "                      NL_transformer=transformer)\n",
    "\n",
    "train_kwargs = {'rdim':20}\n",
    "\n",
    "scores = derrom.utils.get_KFold_CV_scores(model, trajectories, folds=10, seed=817,\n",
    "                                          norms=['rms','max'],\n",
    "                                          train_kwargs=train_kwargs)\n",
    "\n",
    "print('rms error: ', str(np.mean(scores[0])) + ' +- ' + str(np.std(scores[0])) )\n",
    "print('max error: ', str(np.mean(scores[1])) + ' +- ' + str(np.std(scores[1])) )"
   ]
  },
  {
   "cell_type": "code",
   "execution_count": 5,
   "id": "df2b04dc",
   "metadata": {},
   "outputs": [
    {
     "data": {
      "image/png": "[encoded data removed]",
      "text/plain": [
       "<Figure size 432x288 with 1 Axes>"
      ]
     },
     "metadata": {
      "needs_background": "light"
     },
     "output_type": "display_data"
    },
    {
     "data": {
      "image/png": "[encoded data removed]",
      "text/plain": [
       "<Figure size 432x288 with 1 Axes>"
      ]
     },
     "metadata": {
      "needs_background": "light"
     },
     "output_type": "display_data"
    }
   ],
   "source": [
    "all_scores_std = scores[0]\n",
    "all_scores_max = scores[1]\n",
    "\n",
    "plt.hist(all_scores_std, bins=100)\n",
    "plt.show()\n",
    "\n",
    "plt.hist(all_scores_max, bins=100)\n",
    "plt.show()"
   ]
  },
  {
   "cell_type": "code",
   "execution_count": 14,
   "id": "bf47da7c",
   "metadata": {},
   "outputs": [
    {
     "data": {
      "image/png": "[encoded data removed]",
      "text/plain": [
       "<Figure size 245.129x180 with 2 Axes>"
      ]
     },
     "metadata": {
      "needs_background": "light"
     },
     "output_type": "display_data"
    }
   ],
   "source": [
    "####################################################\n",
    "####################################################\n",
    "####################################################\n",
    "\n",
    "plt.rcParams.update({\n",
    "    \"text.usetex\": True,\n",
    "    \"font.family\": \"serif\"\n",
    "})\n",
    "\n",
    "from matplotlib import gridspec\n",
    "import matplotlib.ticker as ticker\n",
    "\n",
    "fs = 9\n",
    "fig = plt.figure(figsize=(3.40457,2.5))\n",
    "plt.rcParams.update({'font.size': fs})\n",
    "gs = gridspec.GridSpec(nrows=2, ncols=1, width_ratios=[1], height_ratios=[1,1])\n",
    "\n",
    "\n",
    "\n",
    "\n",
    "####################################################\n",
    "####################################################\n",
    "####################################################\n",
    "\n",
    "\n",
    "ax00 = plt.subplot(gs[0,0])\n",
    "\n",
    "plt.hist(all_scores_std, bins=100)\n",
    "\n",
    "plt.xlabel(r'rms error')\n",
    "plt.ylabel(r'counts')\n",
    "\n",
    "ax00.xaxis.set_ticks_position('both')\n",
    "ax00.yaxis.set_ticks_position('both')\n",
    "ax00.tick_params(which='both', direction='in', color='k')\n",
    "\n",
    "ax00.xaxis.set_major_locator(ticker.MultipleLocator(0.01))\n",
    "ax00.xaxis.set_minor_locator(ticker.MultipleLocator(0.002))\n",
    "# ax00.xaxis.set_major_formatter(ticker.NullFormatter())\n",
    "# ax00.xaxis.set_minor_formatter(ticker.NullFormatter())\n",
    "\n",
    "ax00.yaxis.set_major_locator(ticker.MultipleLocator(20))\n",
    "ax00.yaxis.set_minor_locator(ticker.MultipleLocator(4))\n",
    "#ax00.yaxis.set_major_formatter(ticker.NullFormatter())\n",
    "#ax00.yaxis.set_minor_formatter(ticker.NullFormatter())\n",
    "\n",
    "plt.text(0.03, 0.97,r'(a)', horizontalalignment='left', verticalalignment='top', transform=ax00.transAxes)\n",
    "\n",
    "####################################################\n",
    "####################################################\n",
    "####################################################\n",
    "\n",
    "\n",
    "ax00 = plt.subplot(gs[1,0])\n",
    "\n",
    "plt.hist(all_scores_max, bins=100)\n",
    "\n",
    "plt.xlabel(r'maximum error')\n",
    "plt.ylabel(r'counts')\n",
    "\n",
    "ax00.xaxis.set_ticks_position('both')\n",
    "ax00.yaxis.set_ticks_position('both')\n",
    "ax00.tick_params(which='both', direction='in', color='k')\n",
    "\n",
    "ax00.xaxis.set_major_locator(ticker.MultipleLocator(0.05))\n",
    "ax00.xaxis.set_minor_locator(ticker.MultipleLocator(0.01))\n",
    "# ax00.xaxis.set_major_formatter(ticker.NullFormatter())\n",
    "# ax00.xaxis.set_minor_formatter(ticker.NullFormatter())\n",
    "\n",
    "ax00.yaxis.set_major_locator(ticker.MultipleLocator(20))\n",
    "ax00.yaxis.set_minor_locator(ticker.MultipleLocator(4))\n",
    "#ax00.yaxis.set_major_formatter(ticker.NullFormatter())\n",
    "#ax00.yaxis.set_minor_formatter(ticker.NullFormatter())\n",
    "\n",
    "plt.text(0.03, 0.97,r'(b)', horizontalalignment='left', verticalalignment='top', transform=ax00.transAxes)\n",
    "\n",
    "####################################################\n",
    "####################################################\n",
    "####################################################\n",
    "\n",
    "\n",
    "\n",
    "plt.tight_layout()\n",
    "\n",
    "plt.subplots_adjust(left=0.11, bottom=0.14, right=0.97, top=0.97, wspace=0.08, hspace=0.45)\n",
    "\n",
    "\n",
    "plt.savefig('/home/agluedge/Preprints/ELPH/figs/pred_error_statistics.pdf')\n",
    "plt.show()"
   ]
  }
 ],
 "metadata": {
  "kernelspec": {
   "display_name": "Python 3 (ipykernel)",
   "language": "python",
   "name": "python3"
  },
  "language_info": {
   "codemirror_mode": {
    "name": "ipython",
    "version": 3
   },
   "file_extension": ".py",
   "mimetype": "text/x-python",
   "name": "python",
   "nbconvert_exporter": "python",
   "pygments_lexer": "ipython3",
   "version": "3.9.2"
  }
 },
 "nbformat": 4,
 "nbformat_minor": 5
}
