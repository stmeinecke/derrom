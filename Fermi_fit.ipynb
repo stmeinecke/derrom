{
 "cells": [
  {
   "cell_type": "code",
   "execution_count": 2,
   "id": "13ea714d",
   "metadata": {},
   "outputs": [
    {
     "name": "stdout",
     "output_type": "stream",
     "text": [
      "The autoreload extension is already loaded. To reload it, use:\n",
      "  %reload_ext autoreload\n"
     ]
    }
   ],
   "source": [
    "%load_ext autoreload\n",
    "%autoreload 2\n",
    "\n",
    "import numpy as np\n",
    "import matplotlib.pyplot as plt\n",
    "plt.rcParams['figure.figsize'] = [9, 6]\n",
    "\n",
    "import sys\n",
    "sys.path.append(\"incl/\")\n",
    "\n",
    "\n",
    "import narrom"
   ]
  },
  {
   "cell_type": "code",
   "execution_count": 3,
   "id": "bb36e6c9",
   "metadata": {},
   "outputs": [
    {
     "name": "stdout",
     "output_type": "stream",
     "text": [
      "1000 loaded with n_kmax = 200\n"
     ]
    }
   ],
   "source": [
    "trajectories = narrom.utils.load_trajectories(filename='/home/agluedge/Preprints/ELPH/runs/runs_n_kmax=200.npz')\n",
    "\n",
    "# trajectories = trajectories[::10]\n",
    "\n",
    "for k in range(len(trajectories)):\n",
    "    trajectories[k] = trajectories[k].T\n",
    "\n",
    "n_trajectories = len(trajectories)\n",
    "n_kmax = trajectories[0].shape[1]\n",
    "\n",
    "print(n_trajectories, 'loaded with n_kmax =', n_kmax)"
   ]
  },
  {
   "cell_type": "code",
   "execution_count": 5,
   "id": "fcaf11c7",
   "metadata": {},
   "outputs": [
    {
     "data": {
      "image/png": "[encoded data removed]",
      "text/plain": [
       "<Figure size 432x288 with 1 Axes>"
      ]
     },
     "metadata": {
      "needs_background": "light"
     },
     "output_type": "display_data"
    },
    {
     "data": {
      "image/png": "[encoded data removed]",
      "text/plain": [
       "<Figure size 432x288 with 1 Axes>"
      ]
     },
     "metadata": {
      "needs_background": "light"
     },
     "output_type": "display_data"
    }
   ],
   "source": [
    "plt.plot(trajectories[1][0])\n",
    "plt.show()\n",
    "\n",
    "plt.plot(trajectories[1][-1])\n",
    "plt.show()"
   ]
  },
  {
   "cell_type": "code",
   "execution_count": 12,
   "id": "bee5a080",
   "metadata": {},
   "outputs": [],
   "source": [
    "#// Numerische Berechnung von chem-Pot und Temperatur der Verteilungen aus tatsächlicher Dichte\n",
    "\n",
    "STEP_LIMIT = 200  #// maximale Anzahl an Schritten für eine Berechnung\n",
    "dmu = 0.5E-3        #// differentieller Schritt zur Berechnung der Ableitungen d/dmu,d/dT\n",
    "dT = 1\n",
    "mstep_max = 0.05  #// maximale Schrittweite der Iterationen\n",
    "Tstep_max = 25\n",
    "\n",
    "\n",
    "# // berechnet chem Pot. (eV) und Temperatur der Fermiverteilung\n",
    "# // aus vorgegebener Ladungsträgerdichte + Gesamtenergie, Ausgabe in *mu, *temp\n",
    "# // en_Bulk/QW/QD sind entweder Elektonen- oder Loch-Energien (werden durch Aufruf der jeweiligen calc_fermi_CP_e/h-Funktion gesetzt)\n",
    "def calc_fermi(state, mu_start, T_start):\n",
    "    m=mu_start\n",
    "    T=T_start;\n",
    "\n",
    "    m2 = m;\n",
    "    T2 = T;\n",
    "#     steps = 0;\n",
    "    d = 0\n",
    "    d_dmu = 0\n",
    "    d_dT = 0\n",
    "    dDdmu = 0\n",
    "    dDdT = 0;\n",
    "    E = 0\n",
    "    E_dmu = 0\n",
    "    E_dT = 0\n",
    "    dEdmu = 0\n",
    "    dEdT = 0;\n",
    "    f=0\n",
    "    mstep=0\n",
    "    Tstep=0\n",
    "\n",
    "    Jacobi_Det = 0;\n",
    "    deltaD = 0\n",
    "    deltaE = 0\n",
    "    for steps in range(STEP_LIMIT):\n",
    "        d = d_dmu = d_dT = 0\n",
    "        E = E_dmu = E_dT = 0\n",
    "        #// resultierende Dichte + Energie aus Fermifunktion aufsummieren\n",
    "        #// m2 = m+delta_m,\n",
    "        #// Berechnung der Jacobi-Matrix von (Dichte, Energie) nach (mu, T)\n",
    "        m2 = m+dmu\n",
    "        T2 = T+dT\n",
    "#         for( int i=0; i<KSAMPLES; i++) {\n",
    "#             // Gesamtdichte und -energie aufsummieren\n",
    "#             f = DOS_Bulk[i] * fermi(en_Bulk[i], m, T);\n",
    "#             d += f;        E += f * en_Bulk[i];\n",
    "\n",
    "#             // Werte bei mu = mu+dmu\n",
    "#             f = DOS_Bulk[i] * fermi(en_Bulk[i], m2, T);\n",
    "#             d_dmu += f;        E_dmu += f * en_Bulk[i];\n",
    "\n",
    "#             // Werte bei T = T+dT\n",
    "#             f = DOS_Bulk[i] * fermi(en_Bulk[i], m, T2);\n",
    "#             d_dT += f;        E_dT += f * en_Bulk[i];\n",
    "#         }\n",
    "#         // Genau genug -> fertig\n",
    "#         double error = max( fabs(d/dens-1), fabs(E/en-1) );\n",
    "#         if( error <= MAXERROR ) break;\n",
    "\n",
    "#         //Jacobi-Matrix-Elemente berechnen\n",
    "#         dDdmu = (d_dmu-d)/dmu;\n",
    "#         dEdmu = (E_dmu-E)/dmu;\n",
    "#         dDdT = (d_dT-d)/dT;\n",
    "#         dEdT = (E_dT-E)/dT;\n",
    "#         Jacobi_Det = dDdT*dEdmu-dDdmu*dEdT;\n",
    "#         if (Jacobi_Det == 0) {\n",
    "#             cout << \"calc_fermi_CC_eh: Jacobi_Det wird null!!!\" << endl;\n",
    "#             cout << \"     d=\"<<d<<\"  mu=\"<<m<<\"  E=\"<<E<<\"  T=\"<<T<<endl;\n",
    "#             exit(0);\n",
    "#         }\n",
    "#         // Berechne neues mu,T durch Lösung von A.(deltaMu, deltaT) = (deltaD, deltaE). => Invertierung der Jacobimatrix gibt dmu,dT\n",
    "#         deltaD = dens-d;\n",
    "#         deltaE = en-E;\n",
    "#         mstep = (deltaE*dDdT-deltaD*dEdT)/Jacobi_Det;\n",
    "#         Tstep = (deltaD*dEdmu-deltaE*dDdmu)/Jacobi_Det;\n",
    "\n",
    "#         if(mstep < -mstep_max) mstep = -mstep_max;\n",
    "#         else if (mstep > mstep_max) mstep = mstep_max;\n",
    "#         if(Tstep < -Tstep_max) Tstep = -Tstep_max;\n",
    "#         else if (Tstep > Tstep_max) Tstep = Tstep_max;\n",
    "\n",
    "#         m += mstep;\n",
    "#         T += Tstep;\n",
    "\n",
    "#         steps++;\n",
    "#         if(steps>STEP_LIMIT) {\n",
    "#             cout << \"calc_fermi_CC_eh braucht mehr als STEP_LIMIT Schritte!\" << endl;\n",
    "#             cout << \"calc_fermi_CC_eh: mu_start=\" << mu_start << \",T_start=\" << T_start <<endl;\n",
    "#             cout << \"calc_fermi_CC_eh: dens=\" << dens << \", en=\" << en <<endl;\n",
    "#             cout << \"calc_fermi_CC_eh: d=\" << d << \", E=\" << E <<endl;\n",
    "#             cout << \"calc_fermi_CC_eh: mu=\" << m << \", T=\" << T << endl;\n",
    "#             cout << \"calc_fermi_CC_eh: error=\" << error << \" nach \" << steps << \" Schritten\" << endl;\n",
    "\n",
    "#             exit(0);\n",
    "# #         }\n",
    "\n",
    "#     } while(1);"
   ]
  }
 ],
 "metadata": {
  "kernelspec": {
   "display_name": "Python 3 (ipykernel)",
   "language": "python",
   "name": "python3"
  },
  "language_info": {
   "codemirror_mode": {
    "name": "ipython",
    "version": 3
   },
   "file_extension": ".py",
   "mimetype": "text/x-python",
   "name": "python",
   "nbconvert_exporter": "python",
   "pygments_lexer": "ipython3",
   "version": "3.9.2"
  }
 },
 "nbformat": 4,
 "nbformat_minor": 5
}
